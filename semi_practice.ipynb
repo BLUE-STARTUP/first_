{
 "cells": [
  {
   "cell_type": "code",
   "execution_count": 1,
   "metadata": {},
   "outputs": [],
   "source": [
    "from selenium import webdriver"
   ]
  },
  {
   "cell_type": "code",
   "execution_count": 2,
   "metadata": {},
   "outputs": [],
   "source": [
    "driver = webdriver.Chrome('chromedriver')"
   ]
  },
  {
   "cell_type": "code",
   "execution_count": 3,
   "metadata": {},
   "outputs": [],
   "source": [
    "# driver.quit()"
   ]
  },
  {
   "cell_type": "code",
   "execution_count": null,
   "metadata": {},
   "outputs": [],
   "source": []
  },
  {
   "cell_type": "code",
   "execution_count": 7,
   "metadata": {},
   "outputs": [
    {
     "data": {
      "text/plain": [
       "'삼다수 2L'"
      ]
     },
     "execution_count": 7,
     "metadata": {},
     "output_type": "execute_result"
    }
   ],
   "source": [
    "# driver.find_element_by_xpath('//*[@id=\"ty_thmb_view\"]/ul/li[1]/div[2]/div[2]/div/a/em[1]').text"
   ]
  },
  {
   "cell_type": "code",
   "execution_count": 8,
   "metadata": {},
   "outputs": [
    {
     "data": {
      "text/plain": [
       "'980'"
      ]
     },
     "execution_count": 8,
     "metadata": {},
     "output_type": "execute_result"
    }
   ],
   "source": [
    "# driver.find_element_by_xpath('//*[@id=\"ty_thmb_view\"]/ul/li[1]/div[2]/div[3]/div/em').text"
   ]
  },
  {
   "cell_type": "code",
   "execution_count": null,
   "metadata": {},
   "outputs": [],
   "source": [
    "# #태그비교\n",
    "# //*[@id=\"ty_thmb_view\"]/ul/li[1]/div[2]/div[2]/div/a/em[1]\n",
    "# //*[@id=\"ty_thmb_view\"]/ul/li[80]/div[2]/div[2]/div/a/em[1]"
   ]
  },
  {
   "cell_type": "code",
   "execution_count": null,
   "metadata": {},
   "outputs": [],
   "source": [
    "# //*[@id=\"ty_thmb_view\"]/ul/li[1]/div[2]/div[3]/div/em\n",
    "# //*[@id=\"ty_thmb_view\"]/ul/li[80]/div[2]/div[3]/div/em"
   ]
  },
  {
   "cell_type": "code",
   "execution_count": null,
   "metadata": {},
   "outputs": [],
   "source": [
    "driver = webdriver.Chrome('chromedriver')\n",
    "driver.get('http://emart.ssg.com/')\n",
    "driver.find_element_by_xpath('//*[@id=\"e_gnb\"]/div/div[1]/div[2]/ul[1]/li[9]/a').click()\n",
    "\n",
    "driver.implicitly_wait(10)\n",
    "\n",
    "product_list = [] \n",
    "price_list = []\n",
    "\n",
    "for j in range(1,10):\n",
    "    for i in range(1,81):\n",
    "        try:\n",
    "        product_name = driver.find_element_by_xpath('//*[@id=\"ty_thmb_view\"]/ul/li['+str(i) +']/div[2]/div[2]/div/a/em[1]')\n",
    "        price = driver.find_element_by_xpath('//*[@id=\"ty_thmb_view\"]/ul/li['+str(i) +']/div[2]/div[3]/div/em')\n",
    "        product_list.append(product_name.text)\n",
    "        price_list.append(price.text)\n",
    "        except Exception as e:\n",
    "            print(e)\n",
    "        \n",
    "        finally:\n",
    "            pass\n",
    "        \n",
    "    driver.find_element_by_xpath('//*[@id=\"area_itemlist\"]/div[2]/a['+str(j) +']').click()"
   ]
  },
  {
   "cell_type": "code",
   "execution_count": null,
   "metadata": {},
   "outputs": [],
   "source": [
    "import pandas as pd"
   ]
  },
  {
   "cell_type": "code",
   "execution_count": null,
   "metadata": {},
   "outputs": [],
   "source": [
    "df1 =  pd.DataFrame({'상품명':product_list,'가격':price_list})\n",
    "df1"
   ]
  },
  {
   "cell_type": "code",
   "execution_count": null,
   "metadata": {},
   "outputs": [],
   "source": [
    "df1.to_excel('result2.xlsx')"
   ]
  },
  {
   "cell_type": "code",
   "execution_count": null,
   "metadata": {},
   "outputs": [],
   "source": []
  },
  {
   "cell_type": "code",
   "execution_count": null,
   "metadata": {},
   "outputs": [],
   "source": []
  }
 ],
 "metadata": {
  "kernelspec": {
   "display_name": "Python 3",
   "language": "python",
   "name": "python3"
  },
  "language_info": {
   "codemirror_mode": {
    "name": "ipython",
    "version": 3
   },
   "file_extension": ".py",
   "mimetype": "text/x-python",
   "name": "python",
   "nbconvert_exporter": "python",
   "pygments_lexer": "ipython3",
   "version": "3.7.3"
  }
 },
 "nbformat": 4,
 "nbformat_minor": 2
}
