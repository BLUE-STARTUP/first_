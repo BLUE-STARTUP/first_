{
 "cells": [
  {
   "cell_type": "code",
   "execution_count": 1,
   "id": "ad1697ad",
   "metadata": {},
   "outputs": [],
   "source": [
    "import numpy as np\n",
    "import pandas as pd\n",
    "from sklearn.feature_extraction.text import TfidfVectorizer\n",
    "from sklearn.metrics.pairwise import cosine_similarity\n",
    "import konlpy \n",
    "from tkinter import *\n",
    "from tkinter import ttk\n",
    "from tkinter import messagebox\n",
    "\n",
    "\n",
    "df = pd.read_json('투자 유치 100억이상 회사 복지 혜택.json')\n",
    "\n",
    "# 결측치를 채워주는 부분\n",
    "df = df.fillna('')\n",
    "df_columns = df.columns.values\n",
    "df_columns= np.delete(df_columns,[0])"
   ]
  },
  {
   "cell_type": "code",
   "execution_count": 2,
   "id": "6477df37",
   "metadata": {},
   "outputs": [],
   "source": [
    "# 데이터 프레임을 받아와서 특정 행값을 특정 열에 대해서 유사도를 도출해내는 함수\n",
    "\n",
    "def tfidf_vect_func(df, target_col, target_row, tokenizer):\n",
    "\n",
    "    # 특정 열을 형태소로 만들어준다. 왜 만들어주느냐 성능을 높이기 위해서\n",
    "    col_tokenized = [ tokenizer.morphs(item) for item in df[target_col] ] \n",
    "    col_tokenized = [ ' '.join(item) for item in col_tokenized ]\n",
    "\n",
    "    # 문자열 데이터를 tfid를 통해서 숫자형 데이터로 바꿔주는 부분\n",
    "    tfidf_vect = TfidfVectorizer()\n",
    "    feature_vect = tfidf_vect.fit_transform(col_tokenized)\n",
    "\n",
    "    # 유사도를 도출해내는 부분\n",
    "    similarity_simple_pair = cosine_similarity(feature_vect[target_row], feature_vect)\n",
    "    result_list = similarity_simple_pair.tolist()[0]\n",
    "    df[f'{target_col}_result'] = result_list\n",
    "    \n",
    "    return df"
   ]
  },
  {
   "cell_type": "code",
   "execution_count": 3,
   "id": "0ce4851b",
   "metadata": {},
   "outputs": [
    {
     "name": "stdout",
     "output_type": "stream",
     "text": [
      "회사를 입력하시려면 0, 복지를 입력하시려면 1 을 입력하세요. : 0\n"
     ]
    }
   ],
   "source": [
    "choice = input('회사를 입력하시려면 0, 복지를 입력하시려면 1 을 입력하세요. : ')"
   ]
  },
  {
   "cell_type": "code",
   "execution_count": 4,
   "id": "2daaf139",
   "metadata": {},
   "outputs": [
    {
     "name": "stdout",
     "output_type": "stream",
     "text": [
      "클룩\n"
     ]
    }
   ],
   "source": [
    "a = df['Company_name'].values.tolist()\n",
    "\n",
    "#콤보박스 선택 값 돌려주기\n",
    "def change1(index, value, op):\n",
    "    print(brand_combo.get())\n",
    "#     print(brand_combo.current())\n",
    "\n",
    "    brand_index = brand_combo.current()\n",
    "    label = ttk.Label(win, text=brand_index)\n",
    "    label.grid(row = 0, column=1)\n",
    "\n",
    "brand = a\n",
    "\n",
    "# window 띄우기\n",
    "win = Tk ()\n",
    "win.title(\"스타트업 회사 선택\")\n",
    "win.geometry('400x200')\n",
    "win.resizable(FALSE, FALSE)\n",
    "\n",
    "# brand 콤보박스\n",
    "str1 = StringVar()\n",
    "str1.trace('w', change1)\n",
    "brand_combo = ttk.Combobox(win, width=20, state='readonly', textvariable=str1, values=brand)\n",
    "brand_combo.grid(row = 0, column=0)\n",
    "\n",
    "win.bind('<Escape>', lambda e: win.destroy()) # ESC 버튼 누르면 창 닫기\n",
    "\n",
    "win.mainloop()"
   ]
  },
  {
   "cell_type": "code",
   "execution_count": 7,
   "id": "988cd5b6",
   "metadata": {},
   "outputs": [],
   "source": [
    "%%capture cap --no-stderr \n",
    "global input_company\n",
    "\n",
    "input_company = cap.stdout.strip() # cap 객체에 저장된 값을 test 변수에 할당\n",
    "print(input_company)"
   ]
  },
  {
   "cell_type": "code",
   "execution_count": 9,
   "id": "da5c560a",
   "metadata": {},
   "outputs": [
    {
     "name": "stdout",
     "output_type": "stream",
     "text": [
      "야놀자\n"
     ]
    }
   ],
   "source": [
    "input_company = input()"
   ]
  },
  {
   "cell_type": "code",
   "execution_count": 10,
   "id": "a329a74c",
   "metadata": {},
   "outputs": [
    {
     "data": {
      "text/html": [
       "<div>\n",
       "<style scoped>\n",
       "    .dataframe tbody tr th:only-of-type {\n",
       "        vertical-align: middle;\n",
       "    }\n",
       "\n",
       "    .dataframe tbody tr th {\n",
       "        vertical-align: top;\n",
       "    }\n",
       "\n",
       "    .dataframe thead th {\n",
       "        text-align: right;\n",
       "    }\n",
       "</style>\n",
       "<table border=\"1\" class=\"dataframe\">\n",
       "  <thead>\n",
       "    <tr style=\"text-align: right;\">\n",
       "      <th></th>\n",
       "      <th>Company_name</th>\n",
       "      <th>Work type</th>\n",
       "      <th>meals, snacks</th>\n",
       "      <th>annual leave, vacation</th>\n",
       "      <th>insurance, medical service</th>\n",
       "      <th>equipment</th>\n",
       "      <th>self development</th>\n",
       "      <th>transportaion</th>\n",
       "    </tr>\n",
       "  </thead>\n",
       "  <tbody>\n",
       "    <tr>\n",
       "      <th>17</th>\n",
       "      <td>야놀자</td>\n",
       "      <td>자율 출근</td>\n",
       "      <td>월1회 사내이벤트, 고급 커피 제공, 중식 제공</td>\n",
       "      <td>연차 휴가, 출산 휴가, 월차</td>\n",
       "      <td>의료 실비 보험, 경조사비, 종합 검진 제공, 4대 보험</td>\n",
       "      <td>듀얼모니터(델), iMac 27\", 맥북 프로 13\", 맥북 프로 15\"</td>\n",
       "      <td>생일축하금, 명절 선물 지급, 명절상여금, 탁구장, 베드민턴장, 도서 구입비 지원,...</td>\n",
       "      <td>야근교통비지원</td>\n",
       "    </tr>\n",
       "  </tbody>\n",
       "</table>\n",
       "</div>"
      ],
      "text/plain": [
       "   Company_name Work type               meals, snacks annual leave, vacation  \\\n",
       "17          야놀자     자율 출근  월1회 사내이벤트, 고급 커피 제공, 중식 제공       연차 휴가, 출산 휴가, 월차   \n",
       "\n",
       "         insurance, medical service                                 equipment  \\\n",
       "17  의료 실비 보험, 경조사비, 종합 검진 제공, 4대 보험  듀얼모니터(델), iMac 27\", 맥북 프로 13\", 맥북 프로 15\"   \n",
       "\n",
       "                                     self development transportaion  \n",
       "17  생일축하금, 명절 선물 지급, 명절상여금, 탁구장, 베드민턴장, 도서 구입비 지원,...       야근교통비지원  "
      ]
     },
     "execution_count": 10,
     "metadata": {},
     "output_type": "execute_result"
    }
   ],
   "source": [
    "df[df['Company_name'] == input_company]"
   ]
  },
  {
   "cell_type": "code",
   "execution_count": 18,
   "id": "a67fa732",
   "metadata": {},
   "outputs": [
    {
     "name": "stdout",
     "output_type": "stream",
     "text": [
      "야놀자\n",
      "회사를 입력하시려면 0, 복지를 입력하시려면 1 을 입력하세요. : 1\n"
     ]
    },
    {
     "name": "stderr",
     "output_type": "stream",
     "text": [
      "C:\\Users\\jangyunsik\\Anaconda3\\lib\\site-packages\\ipykernel_launcher.py:49: FutureWarning: Dropping of nuisance columns in DataFrame reductions (with 'numeric_only=None') is deprecated; in a future version this will raise TypeError.  Select only valid columns before calling the reduction.\n",
      "C:\\Users\\jangyunsik\\Anaconda3\\lib\\site-packages\\ipykernel_launcher.py:51: DeprecationWarning: The default dtype for empty Series will be 'object' instead of 'float64' in a future version. Specify a dtype explicitly to silence this warning.\n"
     ]
    },
    {
     "ename": "KeyboardInterrupt",
     "evalue": "Interrupted by user",
     "output_type": "error",
     "traceback": [
      "\u001b[1;31m---------------------------------------------------------------------------\u001b[0m",
      "\u001b[1;31mKeyboardInterrupt\u001b[0m                         Traceback (most recent call last)",
      "\u001b[1;32mC:\\Users\\JANGYU~1\\AppData\\Local\\Temp/ipykernel_27332/3380385324.py\u001b[0m in \u001b[0;36m<module>\u001b[1;34m\u001b[0m\n\u001b[0;32m     52\u001b[0m     \u001b[0mlast_index\u001b[0m \u001b[1;33m=\u001b[0m \u001b[0mdf\u001b[0m\u001b[1;33m.\u001b[0m\u001b[0miloc\u001b[0m\u001b[1;33m[\u001b[0m\u001b[1;33m[\u001b[0m\u001b[1;33m-\u001b[0m\u001b[1;36m1\u001b[0m\u001b[1;33m]\u001b[0m\u001b[1;33m]\u001b[0m\u001b[1;33m.\u001b[0m\u001b[0mindex\u001b[0m\u001b[1;33m[\u001b[0m\u001b[1;36m0\u001b[0m\u001b[1;33m]\u001b[0m\u001b[1;33m\u001b[0m\u001b[1;33m\u001b[0m\u001b[0m\n\u001b[0;32m     53\u001b[0m \u001b[1;33m\u001b[0m\u001b[0m\n\u001b[1;32m---> 54\u001b[1;33m     \u001b[0mdf\u001b[0m\u001b[1;33m.\u001b[0m\u001b[0mat\u001b[0m\u001b[1;33m[\u001b[0m\u001b[0mlast_index\u001b[0m\u001b[1;33m,\u001b[0m\u001b[1;34m'mess'\u001b[0m\u001b[1;33m]\u001b[0m \u001b[1;33m=\u001b[0m\u001b[0minput\u001b[0m\u001b[1;33m(\u001b[0m\u001b[1;34m'원하시는 복지를 입력해주세요.'\u001b[0m\u001b[1;33m)\u001b[0m\u001b[1;33m\u001b[0m\u001b[1;33m\u001b[0m\u001b[0m\n\u001b[0m\u001b[0;32m     55\u001b[0m \u001b[1;33m\u001b[0m\u001b[0m\n\u001b[0;32m     56\u001b[0m \u001b[1;33m\u001b[0m\u001b[0m\n",
      "\u001b[1;32m~\\Anaconda3\\lib\\site-packages\\ipykernel\\kernelbase.py\u001b[0m in \u001b[0;36mraw_input\u001b[1;34m(self, prompt)\u001b[0m\n\u001b[0;32m   1008\u001b[0m             \u001b[0mself\u001b[0m\u001b[1;33m.\u001b[0m\u001b[0m_parent_ident\u001b[0m\u001b[1;33m[\u001b[0m\u001b[1;34m\"shell\"\u001b[0m\u001b[1;33m]\u001b[0m\u001b[1;33m,\u001b[0m\u001b[1;33m\u001b[0m\u001b[1;33m\u001b[0m\u001b[0m\n\u001b[0;32m   1009\u001b[0m             \u001b[0mself\u001b[0m\u001b[1;33m.\u001b[0m\u001b[0mget_parent\u001b[0m\u001b[1;33m(\u001b[0m\u001b[1;34m\"shell\"\u001b[0m\u001b[1;33m)\u001b[0m\u001b[1;33m,\u001b[0m\u001b[1;33m\u001b[0m\u001b[1;33m\u001b[0m\u001b[0m\n\u001b[1;32m-> 1010\u001b[1;33m             \u001b[0mpassword\u001b[0m\u001b[1;33m=\u001b[0m\u001b[1;32mFalse\u001b[0m\u001b[1;33m,\u001b[0m\u001b[1;33m\u001b[0m\u001b[1;33m\u001b[0m\u001b[0m\n\u001b[0m\u001b[0;32m   1011\u001b[0m         )\n\u001b[0;32m   1012\u001b[0m \u001b[1;33m\u001b[0m\u001b[0m\n",
      "\u001b[1;32m~\\Anaconda3\\lib\\site-packages\\ipykernel\\kernelbase.py\u001b[0m in \u001b[0;36m_input_request\u001b[1;34m(self, prompt, ident, parent, password)\u001b[0m\n\u001b[0;32m   1049\u001b[0m             \u001b[1;32mexcept\u001b[0m \u001b[0mKeyboardInterrupt\u001b[0m\u001b[1;33m:\u001b[0m\u001b[1;33m\u001b[0m\u001b[1;33m\u001b[0m\u001b[0m\n\u001b[0;32m   1050\u001b[0m                 \u001b[1;31m# re-raise KeyboardInterrupt, to truncate traceback\u001b[0m\u001b[1;33m\u001b[0m\u001b[1;33m\u001b[0m\u001b[1;33m\u001b[0m\u001b[0m\n\u001b[1;32m-> 1051\u001b[1;33m                 \u001b[1;32mraise\u001b[0m \u001b[0mKeyboardInterrupt\u001b[0m\u001b[1;33m(\u001b[0m\u001b[1;34m\"Interrupted by user\"\u001b[0m\u001b[1;33m)\u001b[0m \u001b[1;32mfrom\u001b[0m \u001b[1;32mNone\u001b[0m\u001b[1;33m\u001b[0m\u001b[1;33m\u001b[0m\u001b[0m\n\u001b[0m\u001b[0;32m   1052\u001b[0m             \u001b[1;32mexcept\u001b[0m \u001b[0mException\u001b[0m\u001b[1;33m:\u001b[0m\u001b[1;33m\u001b[0m\u001b[1;33m\u001b[0m\u001b[0m\n\u001b[0;32m   1053\u001b[0m                 \u001b[0mself\u001b[0m\u001b[1;33m.\u001b[0m\u001b[0mlog\u001b[0m\u001b[1;33m.\u001b[0m\u001b[0mwarning\u001b[0m\u001b[1;33m(\u001b[0m\u001b[1;34m\"Invalid Message:\"\u001b[0m\u001b[1;33m,\u001b[0m \u001b[0mexc_info\u001b[0m\u001b[1;33m=\u001b[0m\u001b[1;32mTrue\u001b[0m\u001b[1;33m)\u001b[0m\u001b[1;33m\u001b[0m\u001b[1;33m\u001b[0m\u001b[0m\n",
      "\u001b[1;31mKeyboardInterrupt\u001b[0m: Interrupted by user"
     ]
    }
   ],
   "source": [
    "choice = input('회사를 입력하시려면 0, 복지를 입력하시려면 1 을 입력하세요. : ')\n",
    "\n",
    "if choice == '0' : \n",
    "    print(input_company)\n",
    "#     input_company = input(\"가장 마음에 드는 회사를 선택하세요. : \")\n",
    "    target_row= df[df['Company_name'] == input_company].index[0]\n",
    "\n",
    "\n",
    "    okt = konlpy.tag.Okt()\n",
    "\n",
    "# 데이터프레임에 유사도 추가\n",
    "    for num, target_col in enumerate(df_columns):\n",
    "        print('cosine_similarity 분석 중.. '+ str(num+1) + '/'+ str(len(df_columns)))\n",
    "        tfidf_vect_func(df, target_col,target_row, okt)\n",
    "\n",
    "    result_arr = []\n",
    "# 유사도 열만 가져오기\n",
    "    for column in df.columns.values :\n",
    "        if 'result' in column:\n",
    "            result_arr.append(column)\n",
    "\n",
    "\n",
    "    df_result = df[result_arr]\n",
    "    df_result_weight = df_result.copy()\n",
    "\n",
    "\n",
    "    print()\n",
    "    print (\"근무 형태 : 0, 식사, 간식 : 1, 연차, 휴가 : 2 ,보험, 의료: 3 개인 장비: 5, 자기 계발: 5, 통근, 교통: 6\")\n",
    "\n",
    "    weight1 = input(\"가장 중요시하는 회사의 복지를 숫자의 형태로 입력해주세요. : \")  #  가장 중요하게 생각하는 회사의 복지\n",
    "    weight2 = input(\"두 번쨰로 중요시하는 회사의 복지를 숫자의 형태로 입력해주세요. : \")\n",
    "    weight3 = input(\"세 번쨰로 중요시하는 회사의 복지를 숫자의 형태로 입력해주세요. : \")\n",
    "\n",
    "# 가중치 추가\n",
    "    df_result_weight.iloc[:,int(weight1)] = df_result_weight.iloc[:, int(weight1)] * 1.75\n",
    "    df_result_weight.iloc[:,int(weight2)] = df_result_weight.iloc[:,int(weight2)] * 1.5\n",
    "    df_result_weight.iloc[:,int(weight3)] = df_result_weight.iloc[:,int(weight3)] * 1.25\n",
    "\n",
    "    df['sum'] = df_result_weight.cumsum(axis=1).iloc[:,-1]\n",
    "\n",
    "# 유사도의 합 기준으로 정렬\n",
    "    df_result_sort = df.sort_values(by='sum', ascending=False).copy()\n",
    "\n",
    "    # print_df(df_result_sort.head(10))\n",
    "    result_df = df_result_sort.head(10)\n",
    "\n",
    "        \n",
    "elif choice == '1' :\n",
    "    \n",
    "# 모든 열을 하나의 열로 만들어 줌\n",
    "    df['mess'] = df.iloc[:,1:].sum(axis=1)\n",
    "    df_columns = df.columns.values[1:]\n",
    "    df = df.append(pd.Series(),ignore_index= True)\n",
    "    last_index = df.iloc[[-1]].index[0]\n",
    "\n",
    "    df.at[last_index,'mess'] =input('원하시는 복지를 입력해주세요.')\n",
    "\n",
    "\n",
    "\n",
    "    okt = konlpy.tag.Okt()\n",
    "\n",
    "    # for target_col in df_columns:\n",
    "    #     tfidf_vect_func(df, target_col,target_row, okt)\n",
    "\n",
    "# 유사도 계산\n",
    "    tfidf_vect_func(df,'mess',last_index,okt)\n",
    "    \n",
    "# 유사도 기준으로 정렬\n",
    "    df_result_sort = df.sort_values(by='mess_result', ascending=False).copy()\n",
    "    df_result_sort_mess = df_result_sort.drop(columns='mess')\n",
    "\n",
    "    # print_df(df_result_sort_mess.iloc[1:])\n",
    "    result_df = df_result_sort_mess.iloc[1:]\n",
    "\n",
    "else :\n",
    "    # print('0 혹은 1 을 입력하세요.')\n",
    "    result_df = '0 혹은 1 을 입력하세요.'\n",
    "    \n",
    "\n",
    "result_df['recruit'] = 'https://www.wanted.co.kr/search?query=' + result_df['Company_name']\n",
    "\n",
    "# url열에 추가\n",
    "\n",
    "def make_clickable(link):\n",
    "    text = link.split('=')[1]\n",
    "    return f'<a target=\"_blank\" href=\"{link}\">{text}</a>'\n",
    "\n",
    "result_df = result_df.style.format({'recruit': make_clickable})    \n",
    "    \n",
    "result_df"
   ]
  },
  {
   "cell_type": "code",
   "execution_count": null,
   "id": "ab69c15b",
   "metadata": {},
   "outputs": [],
   "source": []
  }
 ],
 "metadata": {
  "kernelspec": {
   "display_name": "Python 3 (ipykernel)",
   "language": "python",
   "name": "python3"
  },
  "language_info": {
   "codemirror_mode": {
    "name": "ipython",
    "version": 3
   },
   "file_extension": ".py",
   "mimetype": "text/x-python",
   "name": "python",
   "nbconvert_exporter": "python",
   "pygments_lexer": "ipython3",
   "version": "3.7.3"
  }
 },
 "nbformat": 4,
 "nbformat_minor": 5
}
