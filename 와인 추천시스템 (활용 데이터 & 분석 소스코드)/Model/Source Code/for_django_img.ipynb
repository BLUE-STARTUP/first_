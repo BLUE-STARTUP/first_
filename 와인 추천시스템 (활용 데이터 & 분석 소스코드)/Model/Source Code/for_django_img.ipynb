{
 "cells": [
  {
   "cell_type": "code",
   "execution_count": 175,
   "metadata": {},
   "outputs": [],
   "source": [
    "import pandas as pd"
   ]
  },
  {
   "cell_type": "code",
   "execution_count": 176,
   "metadata": {},
   "outputs": [],
   "source": [
    "df = pd.read_csv(\"preprocessing_data/wine_preprocessing.csv\",index_col=[0])"
   ]
  },
  {
   "cell_type": "code",
   "execution_count": 177,
   "metadata": {},
   "outputs": [
    {
     "name": "stdout",
     "output_type": "stream",
     "text": [
      "<class 'pandas.core.frame.DataFrame'>\n",
      "Int64Index: 23241 entries, 0 to 23240\n",
      "Data columns (total 16 columns):\n",
      " #   Column         Non-Null Count  Dtype  \n",
      "---  ------         --------------  -----  \n",
      " 0   name           23241 non-null  object \n",
      " 1   price          23241 non-null  float64\n",
      " 2   score          23241 non-null  float64\n",
      " 3   winery         23241 non-null  object \n",
      " 4   grapes         23241 non-null  object \n",
      " 5   country        23241 non-null  object \n",
      " 6   region         23241 non-null  object \n",
      " 7   alcohol        23241 non-null  float64\n",
      " 8   foods          23241 non-null  object \n",
      " 9   wine_id        23241 non-null  float64\n",
      " 10  re             23241 non-null  object \n",
      " 11  s_price        23241 non-null  float64\n",
      " 12  s_score        23241 non-null  float64\n",
      " 13  s_alcohol      23241 non-null  float64\n",
      " 14  rev_s_alcohol  23241 non-null  float64\n",
      " 15  rev_s_price    23241 non-null  float64\n",
      "dtypes: float64(9), object(7)\n",
      "memory usage: 3.0+ MB\n"
     ]
    }
   ],
   "source": [
    "df.info()"
   ]
  },
  {
   "cell_type": "markdown",
   "metadata": {},
   "source": [
    "# vivino url과 wine_id 데이터프레임 만들기(for merge)"
   ]
  },
  {
   "cell_type": "code",
   "execution_count": 5,
   "metadata": {},
   "outputs": [],
   "source": [
    "white_url = pd.read_excel(\"data/white_wine_url.xlsx\",index_col=[0])"
   ]
  },
  {
   "cell_type": "code",
   "execution_count": 6,
   "metadata": {},
   "outputs": [],
   "source": [
    "white_id=[]\n",
    "for i in range(len(white_url)):\n",
    "   white_id.append(white_url[0][i].split(\"price_id=\")[1])\n",
    "white_url['wine_id'] = white_id"
   ]
  },
  {
   "cell_type": "code",
   "execution_count": 7,
   "metadata": {},
   "outputs": [],
   "source": [
    "red_head_url = pd.read_excel(\"data/red_wine_head_url.xlsx\",index_col=[0])"
   ]
  },
  {
   "cell_type": "code",
   "execution_count": 8,
   "metadata": {},
   "outputs": [],
   "source": [
    "red_head_id=[]\n",
    "for i in range(len(red_head_url)):\n",
    "   red_head_id.append(red_head_url[0][i].split(\"price_id=\")[1])\n",
    "red_head_url['wine_id'] = red_head_id"
   ]
  },
  {
   "cell_type": "code",
   "execution_count": 9,
   "metadata": {},
   "outputs": [],
   "source": [
    "red_mid_url = pd.read_excel(\"data/red_wine_mid_url.xlsx\",index_col=[0])"
   ]
  },
  {
   "cell_type": "code",
   "execution_count": 10,
   "metadata": {},
   "outputs": [],
   "source": [
    "red_mid_id=[]\n",
    "for i in range(len(red_mid_url)):\n",
    "   red_mid_id.append(red_mid_url[0][i].split(\"price_id=\")[1])\n",
    "red_mid_url['wine_id'] = red_mid_id"
   ]
  },
  {
   "cell_type": "code",
   "execution_count": 11,
   "metadata": {},
   "outputs": [],
   "source": [
    "red_tail_url = pd.read_excel(\"data/red_wine_tail_url.xlsx\",index_col=[0])"
   ]
  },
  {
   "cell_type": "code",
   "execution_count": 12,
   "metadata": {},
   "outputs": [],
   "source": [
    "red_tail_id=[]\n",
    "for i in range(len(red_tail_url)):\n",
    "   red_tail_id.append(red_tail_url[0][i].split(\"price_id=\")[1])\n",
    "red_tail_url['wine_id'] = red_tail_id"
   ]
  },
  {
   "cell_type": "code",
   "execution_count": 13,
   "metadata": {},
   "outputs": [],
   "source": [
    "all_url = pd.concat([red_head_url,red_mid_url,red_tail_url,white_url])"
   ]
  },
  {
   "cell_type": "code",
   "execution_count": 14,
   "metadata": {},
   "outputs": [
    {
     "data": {
      "text/html": [
       "<div>\n",
       "<style scoped>\n",
       "    .dataframe tbody tr th:only-of-type {\n",
       "        vertical-align: middle;\n",
       "    }\n",
       "\n",
       "    .dataframe tbody tr th {\n",
       "        vertical-align: top;\n",
       "    }\n",
       "\n",
       "    .dataframe thead th {\n",
       "        text-align: right;\n",
       "    }\n",
       "</style>\n",
       "<table border=\"1\" class=\"dataframe\">\n",
       "  <thead>\n",
       "    <tr style=\"text-align: right;\">\n",
       "      <th></th>\n",
       "      <th>0</th>\n",
       "      <th>wine_id</th>\n",
       "    </tr>\n",
       "  </thead>\n",
       "  <tbody>\n",
       "    <tr>\n",
       "      <th>0</th>\n",
       "      <td>https://www.vivino.com/US-CA/en/piedrasassi-ri...</td>\n",
       "      <td>19603399</td>\n",
       "    </tr>\n",
       "    <tr>\n",
       "      <th>1</th>\n",
       "      <td>https://www.vivino.com/US-CA/en/giraud-traditi...</td>\n",
       "      <td>18191466</td>\n",
       "    </tr>\n",
       "    <tr>\n",
       "      <th>2</th>\n",
       "      <td>https://www.vivino.com/US-CA/en/brandlin-estat...</td>\n",
       "      <td>13886692</td>\n",
       "    </tr>\n",
       "    <tr>\n",
       "      <th>3</th>\n",
       "      <td>https://www.vivino.com/US-CA/en/feudo-croce-im...</td>\n",
       "      <td>25311528</td>\n",
       "    </tr>\n",
       "    <tr>\n",
       "      <th>4</th>\n",
       "      <td>https://www.vivino.com/US-CA/en/mamete-prevost...</td>\n",
       "      <td>25588649</td>\n",
       "    </tr>\n",
       "  </tbody>\n",
       "</table>\n",
       "</div>"
      ],
      "text/plain": [
       "                                                   0   wine_id\n",
       "0  https://www.vivino.com/US-CA/en/piedrasassi-ri...  19603399\n",
       "1  https://www.vivino.com/US-CA/en/giraud-traditi...  18191466\n",
       "2  https://www.vivino.com/US-CA/en/brandlin-estat...  13886692\n",
       "3  https://www.vivino.com/US-CA/en/feudo-croce-im...  25311528\n",
       "4  https://www.vivino.com/US-CA/en/mamete-prevost...  25588649"
      ]
     },
     "execution_count": 14,
     "metadata": {},
     "output_type": "execute_result"
    }
   ],
   "source": [
    "all_url.head()"
   ]
  },
  {
   "cell_type": "markdown",
   "metadata": {},
   "source": [
    "### 중복되는 행 제거"
   ]
  },
  {
   "cell_type": "code",
   "execution_count": 15,
   "metadata": {},
   "outputs": [
    {
     "data": {
      "text/plain": [
       "23443431    2\n",
       "25895834    2\n",
       "17723207    2\n",
       "11620680    2\n",
       "13582232    2\n",
       "           ..\n",
       "8535549     1\n",
       "23402676    1\n",
       "25328157    1\n",
       "23849247    1\n",
       "25588744    1\n",
       "Name: wine_id, Length: 23942, dtype: int64"
      ]
     },
     "execution_count": 15,
     "metadata": {},
     "output_type": "execute_result"
    }
   ],
   "source": [
    "all_url['wine_id'].value_counts()"
   ]
  },
  {
   "cell_type": "code",
   "execution_count": 16,
   "metadata": {},
   "outputs": [],
   "source": [
    "all_url.drop_duplicates(keep='first',inplace=True)"
   ]
  },
  {
   "cell_type": "code",
   "execution_count": 17,
   "metadata": {},
   "outputs": [
    {
     "data": {
      "text/plain": [
       "24923537    1\n",
       "735904      1\n",
       "20437116    1\n",
       "21642871    1\n",
       "23169835    1\n",
       "           ..\n",
       "626212      1\n",
       "14022426    1\n",
       "5083661     1\n",
       "22857298    1\n",
       "25588744    1\n",
       "Name: wine_id, Length: 23942, dtype: int64"
      ]
     },
     "execution_count": 17,
     "metadata": {},
     "output_type": "execute_result"
    }
   ],
   "source": [
    "all_url['wine_id'].value_counts()"
   ]
  },
  {
   "cell_type": "code",
   "execution_count": 178,
   "metadata": {},
   "outputs": [],
   "source": [
    "# merge하기 위해 데이터타입 맞춰줌\n",
    "all_url = all_url.astype({'wine_id':'float64'})"
   ]
  },
  {
   "cell_type": "code",
   "execution_count": 19,
   "metadata": {},
   "outputs": [
    {
     "name": "stdout",
     "output_type": "stream",
     "text": [
      "<class 'pandas.core.frame.DataFrame'>\n",
      "Int64Index: 23942 entries, 0 to 5808\n",
      "Data columns (total 2 columns):\n",
      " #   Column   Non-Null Count  Dtype  \n",
      "---  ------   --------------  -----  \n",
      " 0   0        23942 non-null  object \n",
      " 1   wine_id  23942 non-null  float64\n",
      "dtypes: float64(1), object(1)\n",
      "memory usage: 561.1+ KB\n"
     ]
    }
   ],
   "source": [
    "all_url.info()"
   ]
  },
  {
   "cell_type": "markdown",
   "metadata": {},
   "source": [
    "# 전처리한 데이터와 merge"
   ]
  },
  {
   "cell_type": "code",
   "execution_count": 182,
   "metadata": {},
   "outputs": [],
   "source": [
    "final_df = pd.merge(all_url,df,on='wine_id')"
   ]
  },
  {
   "cell_type": "code",
   "execution_count": 183,
   "metadata": {},
   "outputs": [],
   "source": [
    "final_df.rename({0:'url'},axis=1,inplace=True)"
   ]
  },
  {
   "cell_type": "code",
   "execution_count": 184,
   "metadata": {},
   "outputs": [
    {
     "name": "stdout",
     "output_type": "stream",
     "text": [
      "<class 'pandas.core.frame.DataFrame'>\n",
      "Int64Index: 23241 entries, 0 to 23240\n",
      "Data columns (total 17 columns):\n",
      " #   Column         Non-Null Count  Dtype  \n",
      "---  ------         --------------  -----  \n",
      " 0   url            23241 non-null  object \n",
      " 1   wine_id        23241 non-null  float64\n",
      " 2   name           23241 non-null  object \n",
      " 3   price          23241 non-null  float64\n",
      " 4   score          23241 non-null  float64\n",
      " 5   winery         23241 non-null  object \n",
      " 6   grapes         23241 non-null  object \n",
      " 7   country        23241 non-null  object \n",
      " 8   region         23241 non-null  object \n",
      " 9   alcohol        23241 non-null  float64\n",
      " 10  foods          23241 non-null  object \n",
      " 11  re             23241 non-null  object \n",
      " 12  s_price        23241 non-null  float64\n",
      " 13  s_score        23241 non-null  float64\n",
      " 14  s_alcohol      23241 non-null  float64\n",
      " 15  rev_s_alcohol  23241 non-null  float64\n",
      " 16  rev_s_price    23241 non-null  float64\n",
      "dtypes: float64(9), object(8)\n",
      "memory usage: 3.2+ MB\n"
     ]
    }
   ],
   "source": [
    "final_df.info()"
   ]
  },
  {
   "cell_type": "code",
   "execution_count": null,
   "metadata": {},
   "outputs": [],
   "source": []
  },
  {
   "cell_type": "markdown",
   "metadata": {},
   "source": [
    "# 장고를 하던 중 name,winery 부분 이름이 깨지는 것을 발견, 데이터에 이상이 있음을 확인하고 보완하는 작업"
   ]
  },
  {
   "cell_type": "code",
   "execution_count": 185,
   "metadata": {},
   "outputs": [],
   "source": [
    "aa = pd.read_csv(\"preprocessing_data/wine_crawling.csv\")"
   ]
  },
  {
   "cell_type": "code",
   "execution_count": 186,
   "metadata": {},
   "outputs": [
    {
     "name": "stdout",
     "output_type": "stream",
     "text": [
      "<class 'pandas.core.frame.DataFrame'>\n",
      "RangeIndex: 23782 entries, 0 to 23781\n",
      "Data columns (total 11 columns):\n",
      " #   Column   Non-Null Count  Dtype  \n",
      "---  ------   --------------  -----  \n",
      " 0   name     23782 non-null  object \n",
      " 1   price    23713 non-null  float64\n",
      " 2   score    23782 non-null  float64\n",
      " 3   winery   23782 non-null  object \n",
      " 4   grapes   23722 non-null  object \n",
      " 5   country  23775 non-null  object \n",
      " 6   region   23775 non-null  object \n",
      " 7   alcohol  14523 non-null  float64\n",
      " 8   foods    23501 non-null  object \n",
      " 9   wine_id  23782 non-null  int64  \n",
      " 10  re       23782 non-null  object \n",
      "dtypes: float64(3), int64(1), object(7)\n",
      "memory usage: 2.0+ MB\n"
     ]
    }
   ],
   "source": [
    "aa.info()"
   ]
  },
  {
   "cell_type": "code",
   "execution_count": 187,
   "metadata": {},
   "outputs": [],
   "source": [
    "# 깨지지 않은 name,winery 열 출력 + merge를 위한 wine_id 열도 함께 출력\n",
    "new_aa = aa[['name','wine_id','winery']]"
   ]
  },
  {
   "cell_type": "code",
   "execution_count": 188,
   "metadata": {},
   "outputs": [
    {
     "name": "stderr",
     "output_type": "stream",
     "text": [
      "C:\\ProgramData\\Anaconda3\\lib\\site-packages\\ipykernel_launcher.py:2: SettingWithCopyWarning: \n",
      "A value is trying to be set on a copy of a slice from a DataFrame\n",
      "\n",
      "See the caveats in the documentation: https://pandas.pydata.org/pandas-docs/stable/user_guide/indexing.html#returning-a-view-versus-a-copy\n",
      "  \n"
     ]
    }
   ],
   "source": [
    "# 중복 행 삭제\n",
    "new_aa.drop_duplicates(keep='first',inplace=True)"
   ]
  },
  {
   "cell_type": "code",
   "execution_count": 189,
   "metadata": {},
   "outputs": [
    {
     "data": {
      "text/html": [
       "<div>\n",
       "<style scoped>\n",
       "    .dataframe tbody tr th:only-of-type {\n",
       "        vertical-align: middle;\n",
       "    }\n",
       "\n",
       "    .dataframe tbody tr th {\n",
       "        vertical-align: top;\n",
       "    }\n",
       "\n",
       "    .dataframe thead th {\n",
       "        text-align: right;\n",
       "    }\n",
       "</style>\n",
       "<table border=\"1\" class=\"dataframe\">\n",
       "  <thead>\n",
       "    <tr style=\"text-align: right;\">\n",
       "      <th></th>\n",
       "      <th>url</th>\n",
       "      <th>wine_id</th>\n",
       "      <th>name</th>\n",
       "      <th>price</th>\n",
       "      <th>score</th>\n",
       "      <th>winery</th>\n",
       "      <th>grapes</th>\n",
       "      <th>country</th>\n",
       "      <th>region</th>\n",
       "      <th>alcohol</th>\n",
       "      <th>foods</th>\n",
       "      <th>re</th>\n",
       "      <th>s_price</th>\n",
       "      <th>s_score</th>\n",
       "      <th>s_alcohol</th>\n",
       "      <th>rev_s_alcohol</th>\n",
       "      <th>rev_s_price</th>\n",
       "    </tr>\n",
       "  </thead>\n",
       "  <tbody>\n",
       "    <tr>\n",
       "      <th>0</th>\n",
       "      <td>https://www.vivino.com/US-CA/en/piedrasassi-ri...</td>\n",
       "      <td>19603399.0</td>\n",
       "      <td>Rim Rock Vineyard Syrah  2017</td>\n",
       "      <td>52.99</td>\n",
       "      <td>4.3</td>\n",
       "      <td>Piedrasassi</td>\n",
       "      <td>Shiraz/Syrah</td>\n",
       "      <td>United States</td>\n",
       "      <td>Arroyo Grande Valley</td>\n",
       "      <td>13.500000</td>\n",
       "      <td>['Beef', 'Lamb', 'Game (deer, venison)', 'Poul...</td>\n",
       "      <td>['Dry tingly cool bottle pairs with seafood ho...</td>\n",
       "      <td>0.004801</td>\n",
       "      <td>0.333333</td>\n",
       "      <td>0.237968</td>\n",
       "      <td>0.762032</td>\n",
       "      <td>0.995199</td>\n",
       "    </tr>\n",
       "    <tr>\n",
       "      <th>1</th>\n",
       "      <td>https://www.vivino.com/US-CA/en/giraud-traditi...</td>\n",
       "      <td>18191466.0</td>\n",
       "      <td>Tradition Ch창teauneuf-du-Pape  2015</td>\n",
       "      <td>54.99</td>\n",
       "      <td>4.2</td>\n",
       "      <td>Domaine Giraud</td>\n",
       "      <td>Grenache</td>\n",
       "      <td>France</td>\n",
       "      <td>Ch창teauneuf-du-Pape</td>\n",
       "      <td>13.491631</td>\n",
       "      <td>['Lamb', 'Pork', 'Poultry']</td>\n",
       "      <td>['Black cherry, oak. Leather, earthy.  Great b...</td>\n",
       "      <td>0.005003</td>\n",
       "      <td>0.222222</td>\n",
       "      <td>0.237744</td>\n",
       "      <td>0.762256</td>\n",
       "      <td>0.994997</td>\n",
       "    </tr>\n",
       "    <tr>\n",
       "      <th>2</th>\n",
       "      <td>https://www.vivino.com/US-CA/en/brandlin-estat...</td>\n",
       "      <td>13886692.0</td>\n",
       "      <td>Estate Cabernet Sauvignon  2013</td>\n",
       "      <td>73.95</td>\n",
       "      <td>4.3</td>\n",
       "      <td>Brandlin</td>\n",
       "      <td>Cabernet Sauvignon</td>\n",
       "      <td>United States</td>\n",
       "      <td>Mount Veeder</td>\n",
       "      <td>13.491631</td>\n",
       "      <td>['Beef', 'Lamb', 'Game (deer, venison)', 'Matu...</td>\n",
       "      <td>['Wine walk favorite!  This estate cab is fant...</td>\n",
       "      <td>0.006919</td>\n",
       "      <td>0.333333</td>\n",
       "      <td>0.237744</td>\n",
       "      <td>0.762256</td>\n",
       "      <td>0.993081</td>\n",
       "    </tr>\n",
       "    <tr>\n",
       "      <th>3</th>\n",
       "      <td>https://www.vivino.com/US-CA/en/feudo-croce-im...</td>\n",
       "      <td>25311528.0</td>\n",
       "      <td>Imperio LXXIV Primitivo di Manduria  2018</td>\n",
       "      <td>19.99</td>\n",
       "      <td>4.2</td>\n",
       "      <td>Feudo Croce</td>\n",
       "      <td>Primitivo</td>\n",
       "      <td>Italy</td>\n",
       "      <td>Primitivo di Manduria</td>\n",
       "      <td>14.500000</td>\n",
       "      <td>['Beef', 'Pasta', 'Lamb', 'Poultry']</td>\n",
       "      <td>['Plum, fig, pepper, cherry. ', 'Lots of dark ...</td>\n",
       "      <td>0.001465</td>\n",
       "      <td>0.222222</td>\n",
       "      <td>0.264706</td>\n",
       "      <td>0.735294</td>\n",
       "      <td>0.998535</td>\n",
       "    </tr>\n",
       "    <tr>\n",
       "      <th>4</th>\n",
       "      <td>https://www.vivino.com/US-CA/en/mamete-prevost...</td>\n",
       "      <td>25588649.0</td>\n",
       "      <td>Corte di Cama Sforzato di Valtellina  2016</td>\n",
       "      <td>58.50</td>\n",
       "      <td>4.3</td>\n",
       "      <td>Mamete Prevostini</td>\n",
       "      <td>Nebbiolo</td>\n",
       "      <td>Italy</td>\n",
       "      <td>Sforzato della Valtellina</td>\n",
       "      <td>13.491631</td>\n",
       "      <td>['Beef', 'Lamb', 'Game (deer, venison)', 'Poul...</td>\n",
       "      <td>['A bit of a disappointment honestly. Have rea...</td>\n",
       "      <td>0.005358</td>\n",
       "      <td>0.333333</td>\n",
       "      <td>0.237744</td>\n",
       "      <td>0.762256</td>\n",
       "      <td>0.994642</td>\n",
       "    </tr>\n",
       "  </tbody>\n",
       "</table>\n",
       "</div>"
      ],
      "text/plain": [
       "                                                 url     wine_id  \\\n",
       "0  https://www.vivino.com/US-CA/en/piedrasassi-ri...  19603399.0   \n",
       "1  https://www.vivino.com/US-CA/en/giraud-traditi...  18191466.0   \n",
       "2  https://www.vivino.com/US-CA/en/brandlin-estat...  13886692.0   \n",
       "3  https://www.vivino.com/US-CA/en/feudo-croce-im...  25311528.0   \n",
       "4  https://www.vivino.com/US-CA/en/mamete-prevost...  25588649.0   \n",
       "\n",
       "                                         name  price  score  \\\n",
       "0               Rim Rock Vineyard Syrah  2017  52.99    4.3   \n",
       "1         Tradition Ch창teauneuf-du-Pape  2015  54.99    4.2   \n",
       "2             Estate Cabernet Sauvignon  2013  73.95    4.3   \n",
       "3   Imperio LXXIV Primitivo di Manduria  2018  19.99    4.2   \n",
       "4  Corte di Cama Sforzato di Valtellina  2016  58.50    4.3   \n",
       "\n",
       "              winery              grapes        country  \\\n",
       "0        Piedrasassi        Shiraz/Syrah  United States   \n",
       "1     Domaine Giraud            Grenache         France   \n",
       "2           Brandlin  Cabernet Sauvignon  United States   \n",
       "3        Feudo Croce           Primitivo          Italy   \n",
       "4  Mamete Prevostini            Nebbiolo          Italy   \n",
       "\n",
       "                      region    alcohol  \\\n",
       "0       Arroyo Grande Valley  13.500000   \n",
       "1        Ch창teauneuf-du-Pape  13.491631   \n",
       "2               Mount Veeder  13.491631   \n",
       "3      Primitivo di Manduria  14.500000   \n",
       "4  Sforzato della Valtellina  13.491631   \n",
       "\n",
       "                                               foods  \\\n",
       "0  ['Beef', 'Lamb', 'Game (deer, venison)', 'Poul...   \n",
       "1                        ['Lamb', 'Pork', 'Poultry']   \n",
       "2  ['Beef', 'Lamb', 'Game (deer, venison)', 'Matu...   \n",
       "3               ['Beef', 'Pasta', 'Lamb', 'Poultry']   \n",
       "4  ['Beef', 'Lamb', 'Game (deer, venison)', 'Poul...   \n",
       "\n",
       "                                                  re   s_price   s_score  \\\n",
       "0  ['Dry tingly cool bottle pairs with seafood ho...  0.004801  0.333333   \n",
       "1  ['Black cherry, oak. Leather, earthy.  Great b...  0.005003  0.222222   \n",
       "2  ['Wine walk favorite!  This estate cab is fant...  0.006919  0.333333   \n",
       "3  ['Plum, fig, pepper, cherry. ', 'Lots of dark ...  0.001465  0.222222   \n",
       "4  ['A bit of a disappointment honestly. Have rea...  0.005358  0.333333   \n",
       "\n",
       "   s_alcohol  rev_s_alcohol  rev_s_price  \n",
       "0   0.237968       0.762032     0.995199  \n",
       "1   0.237744       0.762256     0.994997  \n",
       "2   0.237744       0.762256     0.993081  \n",
       "3   0.264706       0.735294     0.998535  \n",
       "4   0.237744       0.762256     0.994642  "
      ]
     },
     "execution_count": 189,
     "metadata": {},
     "output_type": "execute_result"
    }
   ],
   "source": [
    "final_df.head()"
   ]
  },
  {
   "cell_type": "code",
   "execution_count": 190,
   "metadata": {},
   "outputs": [],
   "source": [
    "# 깨진 name, winery 열 삭제\n",
    "del final_df['name']\n",
    "del final_df['winery']"
   ]
  },
  {
   "cell_type": "code",
   "execution_count": 191,
   "metadata": {},
   "outputs": [],
   "source": [
    "# 깨지지 않은 name, winery 열과 merge\n",
    "new_df = pd.merge(final_df,new_aa,on='wine_id')"
   ]
  },
  {
   "cell_type": "code",
   "execution_count": 192,
   "metadata": {},
   "outputs": [
    {
     "name": "stdout",
     "output_type": "stream",
     "text": [
      "<class 'pandas.core.frame.DataFrame'>\n",
      "Int64Index: 23241 entries, 0 to 23240\n",
      "Data columns (total 17 columns):\n",
      " #   Column         Non-Null Count  Dtype  \n",
      "---  ------         --------------  -----  \n",
      " 0   url            23241 non-null  object \n",
      " 1   wine_id        23241 non-null  float64\n",
      " 2   price          23241 non-null  float64\n",
      " 3   score          23241 non-null  float64\n",
      " 4   grapes         23241 non-null  object \n",
      " 5   country        23241 non-null  object \n",
      " 6   region         23241 non-null  object \n",
      " 7   alcohol        23241 non-null  float64\n",
      " 8   foods          23241 non-null  object \n",
      " 9   re             23241 non-null  object \n",
      " 10  s_price        23241 non-null  float64\n",
      " 11  s_score        23241 non-null  float64\n",
      " 12  s_alcohol      23241 non-null  float64\n",
      " 13  rev_s_alcohol  23241 non-null  float64\n",
      " 14  rev_s_price    23241 non-null  float64\n",
      " 15  name           23241 non-null  object \n",
      " 16  winery         23241 non-null  object \n",
      "dtypes: float64(9), object(8)\n",
      "memory usage: 3.2+ MB\n"
     ]
    }
   ],
   "source": [
    "new_df.info()"
   ]
  },
  {
   "cell_type": "code",
   "execution_count": 193,
   "metadata": {},
   "outputs": [
    {
     "data": {
      "text/html": [
       "<div>\n",
       "<style scoped>\n",
       "    .dataframe tbody tr th:only-of-type {\n",
       "        vertical-align: middle;\n",
       "    }\n",
       "\n",
       "    .dataframe tbody tr th {\n",
       "        vertical-align: top;\n",
       "    }\n",
       "\n",
       "    .dataframe thead th {\n",
       "        text-align: right;\n",
       "    }\n",
       "</style>\n",
       "<table border=\"1\" class=\"dataframe\">\n",
       "  <thead>\n",
       "    <tr style=\"text-align: right;\">\n",
       "      <th></th>\n",
       "      <th>url</th>\n",
       "      <th>wine_id</th>\n",
       "      <th>price</th>\n",
       "      <th>score</th>\n",
       "      <th>grapes</th>\n",
       "      <th>country</th>\n",
       "      <th>region</th>\n",
       "      <th>alcohol</th>\n",
       "      <th>foods</th>\n",
       "      <th>re</th>\n",
       "      <th>s_price</th>\n",
       "      <th>s_score</th>\n",
       "      <th>s_alcohol</th>\n",
       "      <th>rev_s_alcohol</th>\n",
       "      <th>rev_s_price</th>\n",
       "      <th>name</th>\n",
       "      <th>winery</th>\n",
       "    </tr>\n",
       "  </thead>\n",
       "  <tbody>\n",
       "    <tr>\n",
       "      <th>0</th>\n",
       "      <td>https://www.vivino.com/US-CA/en/piedrasassi-ri...</td>\n",
       "      <td>19603399.0</td>\n",
       "      <td>52.99</td>\n",
       "      <td>4.3</td>\n",
       "      <td>Shiraz/Syrah</td>\n",
       "      <td>United States</td>\n",
       "      <td>Arroyo Grande Valley</td>\n",
       "      <td>13.500000</td>\n",
       "      <td>['Beef', 'Lamb', 'Game (deer, venison)', 'Poul...</td>\n",
       "      <td>['Dry tingly cool bottle pairs with seafood ho...</td>\n",
       "      <td>0.004801</td>\n",
       "      <td>0.333333</td>\n",
       "      <td>0.237968</td>\n",
       "      <td>0.762032</td>\n",
       "      <td>0.995199</td>\n",
       "      <td>Rim Rock Vineyard Syrah  2017</td>\n",
       "      <td>Piedrasassi</td>\n",
       "    </tr>\n",
       "    <tr>\n",
       "      <th>1</th>\n",
       "      <td>https://www.vivino.com/US-CA/en/giraud-traditi...</td>\n",
       "      <td>18191466.0</td>\n",
       "      <td>54.99</td>\n",
       "      <td>4.2</td>\n",
       "      <td>Grenache</td>\n",
       "      <td>France</td>\n",
       "      <td>Ch창teauneuf-du-Pape</td>\n",
       "      <td>13.491631</td>\n",
       "      <td>['Lamb', 'Pork', 'Poultry']</td>\n",
       "      <td>['Black cherry, oak. Leather, earthy.  Great b...</td>\n",
       "      <td>0.005003</td>\n",
       "      <td>0.222222</td>\n",
       "      <td>0.237744</td>\n",
       "      <td>0.762256</td>\n",
       "      <td>0.994997</td>\n",
       "      <td>Tradition Châteauneuf-du-Pape  2015</td>\n",
       "      <td>Domaine Giraud</td>\n",
       "    </tr>\n",
       "    <tr>\n",
       "      <th>2</th>\n",
       "      <td>https://www.vivino.com/US-CA/en/brandlin-estat...</td>\n",
       "      <td>13886692.0</td>\n",
       "      <td>73.95</td>\n",
       "      <td>4.3</td>\n",
       "      <td>Cabernet Sauvignon</td>\n",
       "      <td>United States</td>\n",
       "      <td>Mount Veeder</td>\n",
       "      <td>13.491631</td>\n",
       "      <td>['Beef', 'Lamb', 'Game (deer, venison)', 'Matu...</td>\n",
       "      <td>['Wine walk favorite!  This estate cab is fant...</td>\n",
       "      <td>0.006919</td>\n",
       "      <td>0.333333</td>\n",
       "      <td>0.237744</td>\n",
       "      <td>0.762256</td>\n",
       "      <td>0.993081</td>\n",
       "      <td>Estate Cabernet Sauvignon  2013</td>\n",
       "      <td>Brandlin</td>\n",
       "    </tr>\n",
       "    <tr>\n",
       "      <th>3</th>\n",
       "      <td>https://www.vivino.com/US-CA/en/feudo-croce-im...</td>\n",
       "      <td>25311528.0</td>\n",
       "      <td>19.99</td>\n",
       "      <td>4.2</td>\n",
       "      <td>Primitivo</td>\n",
       "      <td>Italy</td>\n",
       "      <td>Primitivo di Manduria</td>\n",
       "      <td>14.500000</td>\n",
       "      <td>['Beef', 'Pasta', 'Lamb', 'Poultry']</td>\n",
       "      <td>['Plum, fig, pepper, cherry. ', 'Lots of dark ...</td>\n",
       "      <td>0.001465</td>\n",
       "      <td>0.222222</td>\n",
       "      <td>0.264706</td>\n",
       "      <td>0.735294</td>\n",
       "      <td>0.998535</td>\n",
       "      <td>Imperio LXXIV Primitivo di Manduria  2018</td>\n",
       "      <td>Feudo Croce</td>\n",
       "    </tr>\n",
       "    <tr>\n",
       "      <th>4</th>\n",
       "      <td>https://www.vivino.com/US-CA/en/mamete-prevost...</td>\n",
       "      <td>25588649.0</td>\n",
       "      <td>58.50</td>\n",
       "      <td>4.3</td>\n",
       "      <td>Nebbiolo</td>\n",
       "      <td>Italy</td>\n",
       "      <td>Sforzato della Valtellina</td>\n",
       "      <td>13.491631</td>\n",
       "      <td>['Beef', 'Lamb', 'Game (deer, venison)', 'Poul...</td>\n",
       "      <td>['A bit of a disappointment honestly. Have rea...</td>\n",
       "      <td>0.005358</td>\n",
       "      <td>0.333333</td>\n",
       "      <td>0.237744</td>\n",
       "      <td>0.762256</td>\n",
       "      <td>0.994642</td>\n",
       "      <td>Corte di Cama Sforzato di Valtellina  2016</td>\n",
       "      <td>Mamete Prevostini</td>\n",
       "    </tr>\n",
       "  </tbody>\n",
       "</table>\n",
       "</div>"
      ],
      "text/plain": [
       "                                                 url     wine_id  price  \\\n",
       "0  https://www.vivino.com/US-CA/en/piedrasassi-ri...  19603399.0  52.99   \n",
       "1  https://www.vivino.com/US-CA/en/giraud-traditi...  18191466.0  54.99   \n",
       "2  https://www.vivino.com/US-CA/en/brandlin-estat...  13886692.0  73.95   \n",
       "3  https://www.vivino.com/US-CA/en/feudo-croce-im...  25311528.0  19.99   \n",
       "4  https://www.vivino.com/US-CA/en/mamete-prevost...  25588649.0  58.50   \n",
       "\n",
       "   score              grapes        country                     region  \\\n",
       "0    4.3        Shiraz/Syrah  United States       Arroyo Grande Valley   \n",
       "1    4.2            Grenache         France        Ch창teauneuf-du-Pape   \n",
       "2    4.3  Cabernet Sauvignon  United States               Mount Veeder   \n",
       "3    4.2           Primitivo          Italy      Primitivo di Manduria   \n",
       "4    4.3            Nebbiolo          Italy  Sforzato della Valtellina   \n",
       "\n",
       "     alcohol                                              foods  \\\n",
       "0  13.500000  ['Beef', 'Lamb', 'Game (deer, venison)', 'Poul...   \n",
       "1  13.491631                        ['Lamb', 'Pork', 'Poultry']   \n",
       "2  13.491631  ['Beef', 'Lamb', 'Game (deer, venison)', 'Matu...   \n",
       "3  14.500000               ['Beef', 'Pasta', 'Lamb', 'Poultry']   \n",
       "4  13.491631  ['Beef', 'Lamb', 'Game (deer, venison)', 'Poul...   \n",
       "\n",
       "                                                  re   s_price   s_score  \\\n",
       "0  ['Dry tingly cool bottle pairs with seafood ho...  0.004801  0.333333   \n",
       "1  ['Black cherry, oak. Leather, earthy.  Great b...  0.005003  0.222222   \n",
       "2  ['Wine walk favorite!  This estate cab is fant...  0.006919  0.333333   \n",
       "3  ['Plum, fig, pepper, cherry. ', 'Lots of dark ...  0.001465  0.222222   \n",
       "4  ['A bit of a disappointment honestly. Have rea...  0.005358  0.333333   \n",
       "\n",
       "   s_alcohol  rev_s_alcohol  rev_s_price  \\\n",
       "0   0.237968       0.762032     0.995199   \n",
       "1   0.237744       0.762256     0.994997   \n",
       "2   0.237744       0.762256     0.993081   \n",
       "3   0.264706       0.735294     0.998535   \n",
       "4   0.237744       0.762256     0.994642   \n",
       "\n",
       "                                         name             winery  \n",
       "0               Rim Rock Vineyard Syrah  2017        Piedrasassi  \n",
       "1         Tradition Châteauneuf-du-Pape  2015     Domaine Giraud  \n",
       "2             Estate Cabernet Sauvignon  2013           Brandlin  \n",
       "3   Imperio LXXIV Primitivo di Manduria  2018        Feudo Croce  \n",
       "4  Corte di Cama Sforzato di Valtellina  2016  Mamete Prevostini  "
      ]
     },
     "execution_count": 193,
     "metadata": {},
     "output_type": "execute_result"
    }
   ],
   "source": [
    "new_df.head()"
   ]
  },
  {
   "cell_type": "code",
   "execution_count": null,
   "metadata": {},
   "outputs": [],
   "source": []
  },
  {
   "cell_type": "code",
   "execution_count": 32,
   "metadata": {},
   "outputs": [],
   "source": [
    "new_df.to_csv(\"wine_newname_final.csv\",index=False)"
   ]
  },
  {
   "cell_type": "markdown",
   "metadata": {},
   "source": [
    "# 비비노 사이트에서 와인 사진 뽑아내기 => 장고 웹 페이지 출력"
   ]
  },
  {
   "cell_type": "code",
   "execution_count": 26,
   "metadata": {},
   "outputs": [],
   "source": [
    "url = df['url'][0]"
   ]
  },
  {
   "cell_type": "code",
   "execution_count": 27,
   "metadata": {},
   "outputs": [],
   "source": [
    "import requests\n",
    "from bs4 import BeautifulSoup"
   ]
  },
  {
   "cell_type": "code",
   "execution_count": 28,
   "metadata": {},
   "outputs": [],
   "source": [
    "from urllib.request import urlopen"
   ]
  },
  {
   "cell_type": "code",
   "execution_count": 29,
   "metadata": {},
   "outputs": [],
   "source": [
    "headers = {'User-Agent': 'Mozilla/5.0'} "
   ]
  },
  {
   "cell_type": "code",
   "execution_count": 30,
   "metadata": {},
   "outputs": [],
   "source": [
    "web = requests.get(url, headers=headers).content\n",
    "source = BeautifulSoup(web, 'html.parser')"
   ]
  },
  {
   "cell_type": "code",
   "execution_count": 33,
   "metadata": {},
   "outputs": [],
   "source": [
    "img_url = source.find_all('img',{'class':'image'})"
   ]
  },
  {
   "cell_type": "code",
   "execution_count": null,
   "metadata": {},
   "outputs": [],
   "source": []
  },
  {
   "cell_type": "markdown",
   "metadata": {},
   "source": [
    "# food list 뽑아내기 ==> 장고에서 활용"
   ]
  },
  {
   "cell_type": "code",
   "execution_count": 154,
   "metadata": {},
   "outputs": [],
   "source": [
    "my_food = new_df['foods'].unique()"
   ]
  },
  {
   "cell_type": "code",
   "execution_count": 174,
   "metadata": {},
   "outputs": [
    {
     "data": {
      "text/plain": [
       "['Beef', ' Lamb', ' Game (deer', ' venison)', ' Poultry']"
      ]
     },
     "execution_count": 174,
     "metadata": {},
     "output_type": "execute_result"
    }
   ],
   "source": [
    "my_food[0].replace(\"]\",\"\").replace(\"[\",\"\").replace(\"'\",\"\").split(\",\")"
   ]
  },
  {
   "cell_type": "code",
   "execution_count": 155,
   "metadata": {},
   "outputs": [],
   "source": [
    "food_list=[]\n",
    "for i in range(len(my_food)):\n",
    "    for j in range(len(my_food[i].replace(\"]\",\"\").replace(\"[\",\"\").replace(\"'\",\"\").split(\",\"))):\n",
    "        food_list.append(my_food[i].replace(\"]\",\"\").replace(\"[\",\"\").replace(\"'\",\"\").split(\",\")[j].strip())"
   ]
  },
  {
   "cell_type": "code",
   "execution_count": 157,
   "metadata": {},
   "outputs": [],
   "source": [
    "food_list = pd.DataFrame(food_list)"
   ]
  },
  {
   "cell_type": "code",
   "execution_count": 158,
   "metadata": {},
   "outputs": [],
   "source": [
    "food_result = pd.Series(food_list[0].unique())"
   ]
  },
  {
   "cell_type": "code",
   "execution_count": 162,
   "metadata": {},
   "outputs": [],
   "source": [
    "final = result[(result.str.contains(\"\\(\")==False) & (result.str.contains(\"\\)\")==False)].to_list()"
   ]
  },
  {
   "cell_type": "code",
   "execution_count": 166,
   "metadata": {},
   "outputs": [],
   "source": [
    "final.append(\"Game(deer, venison)\")"
   ]
  },
  {
   "cell_type": "code",
   "execution_count": 167,
   "metadata": {},
   "outputs": [],
   "source": [
    "final.append(\"Rich fish(salmon, tuna etc)\")"
   ]
  },
  {
   "cell_type": "code",
   "execution_count": 168,
   "metadata": {},
   "outputs": [
    {
     "data": {
      "text/plain": [
       "[\"'Beef'\",\n",
       " \"'Lamb'\",\n",
       " \"'Poultry'\",\n",
       " \"'Pork'\",\n",
       " \"'Mature and hard cheese'\",\n",
       " \"'Pasta'\",\n",
       " \"'Spicy food'\",\n",
       " \"'Veal'\",\n",
       " \"'Blue cheese'\",\n",
       " \"'Cured Meat'\",\n",
       " \"'Sweet desserts'\",\n",
       " \"'Vegetarian'\",\n",
       " \"'Mild and soft cheese'\",\n",
       " \"'Goat cheese'\",\n",
       " \"'Mushrooms'\",\n",
       " \"'Shellfish'\",\n",
       " \"'Fruity desserts'\",\n",
       " \"'Lean fish'\",\n",
       " \"'Appetizers and snacks'\",\n",
       " \"'Aperitif'\",\n",
       " 'Game(deer, venison)',\n",
       " 'Rich fish(salmon, tuna etc)']"
      ]
     },
     "execution_count": 168,
     "metadata": {},
     "output_type": "execute_result"
    }
   ],
   "source": [
    "final"
   ]
  },
  {
   "cell_type": "markdown",
   "metadata": {},
   "source": [
    "- Poultry \n",
    "- Beef \n",
    "- Spicy food \n",
    "- Game(deer, venison) \n",
    "- Shellfish \n",
    "- Mature and hard cheese\n",
    "- Rich fish(salmon, tuna etc)\n",
    "- Vegetarian\n",
    "- pork\n",
    "- Lean fish\n",
    "- Veal\n",
    "- Sweet desserts\n",
    "- Cured meat\n",
    "- Appetizers and snacks\n",
    "- Lamb\n",
    "- Mild and soft cheese\n",
    "- Pasta\n",
    "- Aperitif\n",
    "- Mushrooms\n",
    "- Fruity desserts\n",
    "- Blue cheese\n",
    "- Goat cheese"
   ]
  },
  {
   "cell_type": "code",
   "execution_count": null,
   "metadata": {},
   "outputs": [],
   "source": []
  }
 ],
 "metadata": {
  "kernelspec": {
   "display_name": "Python 3",
   "language": "python",
   "name": "python3"
  },
  "language_info": {
   "codemirror_mode": {
    "name": "ipython",
    "version": 3
   },
   "file_extension": ".py",
   "mimetype": "text/x-python",
   "name": "python",
   "nbconvert_exporter": "python",
   "pygments_lexer": "ipython3",
   "version": "3.7.3"
  }
 },
 "nbformat": 4,
 "nbformat_minor": 2
}
