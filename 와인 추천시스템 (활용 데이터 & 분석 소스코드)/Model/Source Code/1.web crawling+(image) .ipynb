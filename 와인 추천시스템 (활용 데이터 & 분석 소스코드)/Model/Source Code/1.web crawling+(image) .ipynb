{
 "cells": [
  {
   "cell_type": "markdown",
   "metadata": {},
   "source": [
    "# Web Crawling"
   ]
  },
  {
   "cell_type": "code",
   "execution_count": null,
   "metadata": {},
   "outputs": [],
   "source": [
    "import pandas as pd\n",
    "import numpy as np\n",
    "\n",
    "import time"
   ]
  },
  {
   "cell_type": "markdown",
   "metadata": {},
   "source": [
    "### URL 뽑기"
   ]
  },
  {
   "cell_type": "code",
   "execution_count": null,
   "metadata": {},
   "outputs": [],
   "source": [
    "driver = webdriver.Chrome(executable_path='(driver) chromedriver.exe')"
   ]
  },
  {
   "cell_type": "code",
   "execution_count": null,
   "metadata": {},
   "outputs": [],
   "source": [
    "headers = {'User-Agent' : 'Mozilla/5.0 (Windows NT 10.0; Win64; x64) AppleWebKit/537.36 (KHTML, like Gecko) Chrome/94.0.4606.61 '}\n",
    "\n",
    "url = 'https://www.vivino.com/US-CA/en' #와인 갯수 제일 많은 미국 url"
   ]
  },
  {
   "cell_type": "code",
   "execution_count": null,
   "metadata": {},
   "outputs": [],
   "source": [
    "driver.get('https://www.vivino.com/explore?e=eJzLLbI10TNSy83MszVQy02ssDU1UEuutA0NVksGEi5qBbaGaulptmWJRZmpJYk5avlFKbZq-UmVtmrlJdGxtkYQyhjKM4HQUMpcrdg2OREA640e_g%3D%3D')\n",
    "\n",
    "time.sleep(3)"
   ]
  },
  {
   "cell_type": "code",
   "execution_count": null,
   "metadata": {},
   "outputs": [],
   "source": [
    "last_height = driver.execute_script(\"return document.body.scrollHeight\")\n",
    "\n",
    "while True:\n",
    "    # 끝까지 스크롤 다운\n",
    "    driver.execute_script(\"window.scrollTo(0, document.body.scrollHeight);\")\n",
    "\n",
    "    # 1초 대기\n",
    "    time.sleep(scroll_pause_time )\n",
    "\n",
    "    # 스크롤 다운 후 스크롤 높이 다시 가져옴\n",
    "    new_height = driver.execute_script(\"return document.body.scrollHeight\")\n",
    "    if new_height == last_height:\n",
    "        break\n",
    "    last_height = new_height"
   ]
  },
  {
   "cell_type": "code",
   "execution_count": null,
   "metadata": {},
   "outputs": [],
   "source": [
    "url_list = source.find_all('a', {'class':'anchor__anchor--3DOSm wineCard__cardLink--3F_uB'})"
   ]
  },
  {
   "cell_type": "code",
   "execution_count": null,
   "metadata": {},
   "outputs": [],
   "source": [
    "my_set = set(url_list)"
   ]
  },
  {
   "cell_type": "code",
   "execution_count": null,
   "metadata": {},
   "outputs": [],
   "source": [
    "wine_url=[]\n",
    "for i in range(len(url_list)):\n",
    "    wine_url.append('https://www.vivino.com' + url_list[i]['href'])\n",
    "wine_url"
   ]
  },
  {
   "cell_type": "markdown",
   "metadata": {},
   "source": [
    "### 리뷰 데이터 뽑기"
   ]
  },
  {
   "cell_type": "code",
   "execution_count": null,
   "metadata": {},
   "outputs": [],
   "source": [
    "headers = {'User-Agent': 'Mozilla/5.0'} "
   ]
  },
  {
   "cell_type": "code",
   "execution_count": null,
   "metadata": {},
   "outputs": [],
   "source": [
    "review_all=[]\n",
    "wine_id=[]"
   ]
  },
  {
   "cell_type": "code",
   "execution_count": null,
   "metadata": {},
   "outputs": [],
   "source": [
    "count = 1\n",
    "\n",
    "for url in red_mid_url[1000:2000]: #너무 많아서 1000개씩 쪼개주면서 함\n",
    "      web = requests.get(url, headers=headers).content\n",
    "      source = BeautifulSoup(web, 'html.parser')\n",
    "      try:\n",
    "        for idx, script in enumerate(source.find_all('script')):\n",
    "          if 'alcohol' in str(script):\n",
    "            num=idx\n",
    "        data = source.find_all('script')[num]\n",
    "        data = data.get_text()\n",
    "        data = data.split('vintagePageInformation = ')[1].split(';\\n  window.__PRELOADED_STATE__')[0]\n",
    "        data = json.loads(data)\n",
    "  \n",
    "      except:\n",
    "        continue\n",
    "\n",
    "      wine_id.append(url.split('id=')[1])\n",
    "      name.append(source.find('span',{'class':'vintage'}).get_text().replace(\"\\n\",\" \").strip())\n",
    "\n",
    "      try:\n",
    "        if 'price' in data:\n",
    "            price.append(data['price']['amount'])\n",
    "        else:\n",
    "            price.append(data['prices_and_availability']['availability']['median']['amount'])\n",
    "      except:\n",
    "        price.append(\"\")\n",
    "\n",
    "\n",
    "\n",
    "      score.append(data['vintage']['statistics']['ratings_average'])\n",
    "      winery.append(data['vintage']['wine']['winery']['name'])\n",
    "\n",
    "      if data['vintage']['wine']['grapes']!=[]:\n",
    "          grapes.append(data['vintage']['wine']['grapes'][0]['name'])\n",
    "      else:\n",
    "          grapes.append(\"\")\n",
    "      try:\n",
    "        country.append(data['vintage']['wine']['region']['country']['name']) \n",
    "        region.append(data['vintage']['wine']['region']['name'])\n",
    "      except:\n",
    "        country.append(\"\")\n",
    "        region.append(\"\")\n",
    "      \n",
    "      try:\n",
    "      #if ('alcohol' in str(data['vintage']['wine_facts'])) & (data['vintage']['wine_facts'] != {}):        \n",
    "          alcohol.append(data['vintage']['wine_facts']['alcohol'])\n",
    "      except:\n",
    "      #else:\n",
    "          alcohol.append(\"\")\n",
    "\n",
    "      food = []    \n",
    "      if 'foods' in str(data['vintage']['wine']):\n",
    "          for i in range(len(data['vintage']['wine']['foods'])):\n",
    "              food.append(data['vintage']['wine']['foods'][i]['name'])\n",
    "          foods.append(food)\n",
    "      else:\n",
    "          foods.append(\"\")\n",
    "\n",
    "    \n",
    "      print(count)\n",
    "      count+=1"
   ]
  },
  {
   "cell_type": "markdown",
   "metadata": {},
   "source": [
    "### 이미지 크롤링"
   ]
  },
  {
   "cell_type": "code",
   "execution_count": null,
   "metadata": {},
   "outputs": [],
   "source": [
    "#df = 전처리까지 끝난 데이터프레임"
   ]
  },
  {
   "cell_type": "code",
   "execution_count": null,
   "metadata": {},
   "outputs": [],
   "source": [
    "df['foods'].value_counts() \n",
    "df['foods'][0]"
   ]
  },
  {
   "cell_type": "code",
   "execution_count": null,
   "metadata": {},
   "outputs": [],
   "source": [
    "foods_list = []  #음식 이름을 뽑아서 리스트에 넣는 작업\n",
    "\n",
    "for list_str in df['foods'].tolist():\n",
    "    foods_list += eval(list_str)"
   ]
  },
  {
   "cell_type": "code",
   "execution_count": null,
   "metadata": {},
   "outputs": [],
   "source": [
    "set(foods_list) #중복된 이름 제거"
   ]
  },
  {
   "cell_type": "code",
   "execution_count": null,
   "metadata": {},
   "outputs": [],
   "source": [
    "name_list = [ ]"
   ]
  },
  {
   "cell_type": "code",
   "execution_count": null,
   "metadata": {},
   "outputs": [],
   "source": [
    "from selenium import webdriver\n",
    "from selenium.webdriver.common.keys import Keys\n",
    "import time\n",
    "import urllib.request\n",
    "\n",
    "# 각 이름별로 크롤링 진행\n",
    "for foodname in name_list :\n",
    "\n",
    "    driver = webdriver.Chrome()\n",
    "    driver.get(\"https://www.google.co.kr/imghp?hl=ko&tab=wi&authuser=0&ogbl\")\n",
    "    elem = driver.find_element_by_name(\"q\")\n",
    "    elem.send_keys(foodname)\n",
    "    elem.send_keys(Keys.RETURN)\n",
    "\n",
    "    SCROLL_PAUSE_TIME = 1\n",
    "    # Get scroll height\n",
    "    last_height = driver.execute_script(\"return document.body.scrollHeight\")\n",
    "    while True:\n",
    "        # 끝까지 스크롤 다운\n",
    "        driver.execute_script(\"window.scrollTo(0, document.body.scrollHeight);\")\n",
    "        # 1초 대기\n",
    "        time.sleep(SCROLL_PAUSE_TIME)\n",
    "        # 스크롤 다운 후 스크롤 높이 다시 가져옴\n",
    "        new_height = driver.execute_script(\"return document.body.scrollHeight\")\n",
    "        if new_height == last_height:\n",
    "            try:\n",
    "                driver.find_element_by_css_selector(\".mye4qd\").click()\n",
    "            except:\n",
    "                break\n",
    "        last_height = new_height\n",
    "    images = driver.find_elements_by_css_selector(\".rg_i.Q4LuWd\")\n",
    "    count = 1\n",
    "    for image in images:\n",
    "        try:\n",
    "            image.click()\n",
    "            time.sleep(2)\n",
    "            imgUrl = driver.find_element_by_xpath(\n",
    "                '//*[@id=\"Sva75c\"]/div/div/div[3]/div[2]/c-wiz/div/div[1]/div[1]/div[2]/div[1]/a/img').get_attribute(\n",
    "                \"src\")\n",
    "            print('imgUrl')\n",
    "            opener=urllib.request.build_opener()\n",
    "            print('opener')\n",
    "            opener.addheaders=[('User-Agent','Mozilla/5.0 (Windows NT 6.1; WOW64) AppleWebKit/537.36 (KHTML, like Gecko) Chrome/36.0.1941.0 Safari/537.36')]\n",
    "            print('opener.addheaders')\n",
    "            urllib.request.install_opener(opener)\n",
    "            urllib.request.urlretrieve(imgUrl, 'image_data/foodname' + str(count)+ \".jpg\" )\n",
    "            count = count + 1\n",
    "            if count == 220 :\n",
    "                print('꺼집니다')\n",
    "                break\n",
    "            \n",
    "        except:\n",
    "            print('크롤링에 실패하였습니다')\n",
    "            pass\n",
    "\n",
    "    driver.close()"
   ]
  }
 ],
 "metadata": {
  "kernelspec": {
   "display_name": "Python 3",
   "language": "python",
   "name": "python3"
  },
  "language_info": {
   "codemirror_mode": {
    "name": "ipython",
    "version": 3
   },
   "file_extension": ".py",
   "mimetype": "text/x-python",
   "name": "python",
   "nbconvert_exporter": "python",
   "pygments_lexer": "ipython3",
   "version": "3.7.3"
  }
 },
 "nbformat": 4,
 "nbformat_minor": 2
}
