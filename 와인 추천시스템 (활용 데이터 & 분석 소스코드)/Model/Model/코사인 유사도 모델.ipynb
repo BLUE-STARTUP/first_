{
 "cells": [
  {
   "cell_type": "code",
   "execution_count": null,
   "metadata": {},
   "outputs": [],
   "source": [
    "import pandas as pd\n",
    "\n",
    "import re\n",
    "import nltk\n",
    "from nltk.corpus import stopwords\n",
    "\n",
    "from sklearn.feature_extraction.text import TfidfVectorizer\n",
    "from sklearn.metrics.pairwise import cosine_similarity\n",
    "\n",
    "import string"
   ]
  },
  {
   "cell_type": "markdown",
   "metadata": {},
   "source": [
    "# 모델1"
   ]
  },
  {
   "cell_type": "code",
   "execution_count": null,
   "metadata": {},
   "outputs": [],
   "source": [
    "df = pd.read_csv(\"preprocessing_data/wine_newname_final.csv\")"
   ]
  },
  {
   "cell_type": "code",
   "execution_count": null,
   "metadata": {},
   "outputs": [],
   "source": [
    "df.head()"
   ]
  },
  {
   "cell_type": "markdown",
   "metadata": {},
   "source": [
    "### 불용어 제거"
   ]
  },
  {
   "cell_type": "code",
   "execution_count": null,
   "metadata": {},
   "outputs": [],
   "source": [
    "nltk.download('stopwords')  #NLTK를 통해 불용어 확인\n",
    "stopwords = nltk.corpus.stopwords.words('english')"
   ]
  },
  {
   "cell_type": "markdown",
   "metadata": {},
   "source": [
    "### 와인 이름 받아서 index 추출 => 제일 앞에 있는 와인 추출"
   ]
  },
  {
   "cell_type": "code",
   "execution_count": null,
   "metadata": {},
   "outputs": [],
   "source": [
    "wine_name = input(\"와인 이름을 입력해주세요: \")"
   ]
  },
  {
   "cell_type": "code",
   "execution_count": null,
   "metadata": {},
   "outputs": [],
   "source": [
    "new_name = string.capwords(wine_name)\n",
    "new_name"
   ]
  },
  {
   "cell_type": "code",
   "execution_count": null,
   "metadata": {},
   "outputs": [],
   "source": [
    "df[df['name'].str.contains(new_name)==True]"
   ]
  },
  {
   "cell_type": "code",
   "execution_count": null,
   "metadata": {},
   "outputs": [],
   "source": [
    "# 인덱스 찾기\n",
    "wine_index =df[df['name'].str.contains(new_name)==True].index[0]\n",
    "wine_index"
   ]
  },
  {
   "cell_type": "code",
   "execution_count": null,
   "metadata": {},
   "outputs": [],
   "source": [
    "df[df['name'].str.contains(wine_name)==True]"
   ]
  },
  {
   "cell_type": "markdown",
   "metadata": {},
   "source": [
    "### 코사인유사도 계산 (리뷰, 음식)"
   ]
  },
  {
   "cell_type": "code",
   "execution_count": null,
   "metadata": {},
   "outputs": [],
   "source": [
    "def cosine_func(col_name,wine_index):\n",
    "    \n",
    "    #정규 표현식으로 영문만 남음\n",
    "    only_english  = [ re.sub('[^a-zA-Z]', ' ',sentence).lower() for sentence in df[col_name]]\n",
    "    #토큰만들기\n",
    "    col_tokenized = [ nltk.word_tokenize(item) for item in only_english ] \n",
    "    #불용어 빼기\n",
    "    no_stopwords = [ i for i in col_tokenized if i not in stopwords]\n",
    "    #다시 합쳐주기\n",
    "    final_review = [ ' '.join(item) for item in no_stopwords ]\n",
    "    \n",
    "    #Tfidf\n",
    "    tfidf_vect = TfidfVectorizer()\n",
    "    feature_vect = tfidf_vect.fit_transform(final_review)\n",
    "    \n",
    "    #코사인 유사도 분석 => 사용자가 입력한 와인과 전체 \n",
    "    similarity_simple_pair = cosine_similarity(feature_vect[wine_index], feature_vect)\n",
    "    result_list = similarity_simple_pair.tolist()[0]\n",
    "    df[f'{col_name}_result'] = result_list\n",
    "    \n",
    "    return df"
   ]
  },
  {
   "cell_type": "code",
   "execution_count": null,
   "metadata": {},
   "outputs": [],
   "source": [
    "# 데이터프레임에 유사도 추가\n",
    "my_col = ['foods','re']\n",
    "for target_col in my_col:\n",
    "    cosine_func(target_col,wine_index)"
   ]
  },
  {
   "cell_type": "code",
   "execution_count": null,
   "metadata": {},
   "outputs": [],
   "source": [
    "df.head()"
   ]
  },
  {
   "cell_type": "code",
   "execution_count": null,
   "metadata": {},
   "outputs": [],
   "source": [
    "result_arr = []\n",
    "for column in df.columns.values:\n",
    "    if (df[column].dtype == 'float64') |  (df[column].dtype == 'int64'):\n",
    "        if(column != 'wine_id'):\n",
    "            result_arr.append(column)"
   ]
  },
  {
   "cell_type": "code",
   "execution_count": null,
   "metadata": {},
   "outputs": [],
   "source": [
    "result_arr = result_arr[3:]\n",
    "result_arr"
   ]
  },
  {
   "cell_type": "code",
   "execution_count": null,
   "metadata": {},
   "outputs": [],
   "source": [
    "df_result_weight = df[result_arr].copy()"
   ]
  },
  {
   "cell_type": "code",
   "execution_count": null,
   "metadata": {},
   "outputs": [],
   "source": [
    "df_result_weight.head()"
   ]
  },
  {
   "cell_type": "markdown",
   "metadata": {},
   "source": [
    "#### 가중치 받기"
   ]
  },
  {
   "cell_type": "code",
   "execution_count": null,
   "metadata": {},
   "outputs": [],
   "source": [
    "price_w = float(input(\"가중치를 입력해주세요.(합 1) \\n가격 : \"))\n",
    "score_w = float(input(\"평점 : \"))\n",
    "alcohol_w = float(input(\"도수 : \"))\n",
    "food_w = float(input(\"어울리는 음식: \"))\n",
    "review_w = float(input(\"리뷰: \"))"
   ]
  },
  {
   "cell_type": "code",
   "execution_count": null,
   "metadata": {},
   "outputs": [],
   "source": [
    "# how == 1, low == 2\n",
    "\n",
    "how_alcohol = int(input(\"도수 선호도(high:1 low:2) : \"))\n",
    "how_price = int(input(\"가격 선호도(high:1 low:2) : \"))"
   ]
  },
  {
   "cell_type": "markdown",
   "metadata": {},
   "source": [
    "#### 받은 가중치로 계산"
   ]
  },
  {
   "cell_type": "code",
   "execution_count": null,
   "metadata": {},
   "outputs": [],
   "source": [
    "# 가중치 추가\n",
    "if how_price == 1:\n",
    "    df['weight'] = df_result_weight['s_price']*price_w\n",
    "else:\n",
    "    df['weight'] = df_result_weight['rev_s_price']*price_w   \n",
    "df['weight']+=df_result_weight['s_score']*score_w\n",
    "if how_alcohol == 1:\n",
    "    df['weight']+=df_result_weight['s_alcohol']*alcohol_w\n",
    "else:\n",
    "    df['weight']+=df_result_weight['rev_s_alcohol']*alcohol_w\n",
    "df['weight']+=df_result_weight['foods_result']*food_w\n",
    "df['weight']+=df_result_weight['re_result']*review_w "
   ]
  },
  {
   "cell_type": "code",
   "execution_count": null,
   "metadata": {},
   "outputs": [],
   "source": [
    "df['weight']"
   ]
  },
  {
   "cell_type": "markdown",
   "metadata": {},
   "source": [
    "#### 상위 6개 추천"
   ]
  },
  {
   "cell_type": "code",
   "execution_count": null,
   "metadata": {},
   "outputs": [],
   "source": [
    "df_sorted_by_values = df.sort_values(by='weight' ,ascending=False)"
   ]
  },
  {
   "cell_type": "code",
   "execution_count": null,
   "metadata": {},
   "outputs": [],
   "source": [
    "result = df_sorted_by_values[:6]"
   ]
  },
  {
   "cell_type": "code",
   "execution_count": null,
   "metadata": {},
   "outputs": [],
   "source": [
    "result"
   ]
  },
  {
   "cell_type": "markdown",
   "metadata": {},
   "source": [
    "# 모델 2"
   ]
  },
  {
   "cell_type": "code",
   "execution_count": null,
   "metadata": {},
   "outputs": [],
   "source": [
    "df = pd.read_csv(\"minmaxscaling_wine.csv\",index_col=[0])"
   ]
  },
  {
   "cell_type": "code",
   "execution_count": null,
   "metadata": {},
   "outputs": [],
   "source": [
    "country_select = df['country'].value_counts().head(15).keys().to_list()\n",
    "country_select"
   ]
  },
  {
   "cell_type": "code",
   "execution_count": null,
   "metadata": {},
   "outputs": [],
   "source": [
    "grape_select = df['grapes'].value_counts().head(15).keys().to_list()\n",
    "\n",
    "vivino_grapes = ['Cabernet Sauvignon', 'Merlot', 'Chardonnay', 'Pinot Noir', 'Malbec',\n",
    "'Sauvignon Blanc', 'Shiraz/Syrah', 'Zinfandel', 'Nebbiolo', 'Sangiovese',\n",
    "'Pinot Grigio', 'Riesling', 'Chenin Blanc', 'Moscato', 'Albarino']\n",
    "for i in range(len(vivino_grapes)):\n",
    "    if vivino_grapes[i] not in grape_select:\n",
    "        grape_select.append(vivino_grapes[i])\n",
    "grape_select"
   ]
  },
  {
   "cell_type": "code",
   "execution_count": null,
   "metadata": {},
   "outputs": [],
   "source": [
    "len(grape_select)"
   ]
  },
  {
   "cell_type": "code",
   "execution_count": null,
   "metadata": {},
   "outputs": [],
   "source": [
    "alcohol_min = float(input(\"알코올 도수 최솟값을 입력해주세요!! : \"))"
   ]
  },
  {
   "cell_type": "code",
   "execution_count": null,
   "metadata": {},
   "outputs": [],
   "source": [
    "alcohol_max = float(input(\"알코올 도수 최댓값을 입력해주세요!! : \"))"
   ]
  },
  {
   "cell_type": "code",
   "execution_count": null,
   "metadata": {},
   "outputs": [],
   "source": [
    "price_min = float(input(\"가격 최솟값을 입력해주세요!! : \"))"
   ]
  },
  {
   "cell_type": "code",
   "execution_count": null,
   "metadata": {},
   "outputs": [],
   "source": [
    "price_max = float(input(\"가격 최댓값을 입력해주세요!! : \"))"
   ]
  },
  {
   "cell_type": "code",
   "execution_count": null,
   "metadata": {},
   "outputs": [],
   "source": [
    "food_name = input(\"같이 먹을 음식을 입력해주세요!! : \")"
   ]
  },
  {
   "cell_type": "code",
   "execution_count": null,
   "metadata": {},
   "outputs": [],
   "source": [
    "review_tagname = input(\"이번 파티의 핵심 단어를 입력해주세요!! : \")"
   ]
  },
  {
   "cell_type": "code",
   "execution_count": null,
   "metadata": {},
   "outputs": [],
   "source": [
    "grape_name = input(\"포도품종을 입력해주세요!! : \")"
   ]
  },
  {
   "cell_type": "code",
   "execution_count": null,
   "metadata": {},
   "outputs": [],
   "source": [
    "country_name = input(\"선호하는 나라가 있나요 : \")"
   ]
  },
  {
   "cell_type": "code",
   "execution_count": null,
   "metadata": {},
   "outputs": [],
   "source": [
    "df = df[(df['alcohol'] >= alcohol_min) & (df['alcohol'] <= alcohol_max)]\n",
    "df = df[(df['price'] >= price_min) & (df['price'] <= price_max) ]"
   ]
  },
  {
   "cell_type": "code",
   "execution_count": null,
   "metadata": {},
   "outputs": [],
   "source": [
    "df = df[(df['grapes'] == grape_name )]\n",
    "df = df[(df['country'] == country_name )]"
   ]
  },
  {
   "cell_type": "code",
   "execution_count": null,
   "metadata": {},
   "outputs": [],
   "source": [
    "df.head()"
   ]
  },
  {
   "cell_type": "markdown",
   "metadata": {},
   "source": [
    "### 불용어 제거"
   ]
  },
  {
   "cell_type": "code",
   "execution_count": null,
   "metadata": {},
   "outputs": [],
   "source": [
    "nltk.download('stopwords') #NLTK를 통해 불용어 확인\n",
    "stopwords = nltk.corpus.stopwords.words('english')"
   ]
  },
  {
   "cell_type": "code",
   "execution_count": null,
   "metadata": {},
   "outputs": [],
   "source": [
    "def cosine_func(col_name,target_data):\n",
    "    \n",
    "    #정규 표현식으로 영문만 남음\n",
    "    only_english1  = [ re.sub('[^a-zA-Z]', ' ',sentence).lower() for sentence in df[col_name]]\n",
    "    only_english2  = re.sub('[^a-zA-Z]', ' ',target_data).lower()\n",
    "    #토큰만들기\n",
    "    col_tokenized1 = [ nltk.word_tokenize(item) for item in only_english1 ] \n",
    "    col_tokenized2 = nltk.word_tokenize(only_english2)\n",
    "    #불용어 빼기\n",
    "    no_stopwords1 = [ i for i in col_tokenized1 if i not in stopwords]\n",
    "    no_stopwords2 = [ i for i in col_tokenized2 if i not in stopwords]\n",
    "    #다시 합쳐주기\n",
    "    final_review1 = [ ' '.join(item) for item in no_stopwords1 ]\n",
    "    final_review2 = [ ' '.join(item) for item in no_stopwords2 ]\n",
    "#     final_review = nltk.Text(no_stopwords) # corpus 생성\n",
    "    \n",
    "    #Tfidf\n",
    "    tfidf_vect = TfidfVectorizer()\n",
    "    feature_vect = tfidf_vect.fit_transform(final_review1)\n",
    "    my_vect = tfidf_vect.transform(final_review2)\n",
    "    \n",
    "    #코사인 유사도 분석 => 사용자가 입력한 와인과 전체 \n",
    "    similarity_simple_pair = cosine_similarity(my_vect, feature_vect)\n",
    "    result_list = similarity_simple_pair.tolist()[0]\n",
    "    df[f'{col_name}_result'] = result_list\n",
    "    \n",
    "    return df"
   ]
  },
  {
   "cell_type": "code",
   "execution_count": null,
   "metadata": {},
   "outputs": [],
   "source": [
    "# 데이터프레임에 유사도 추가\n",
    "my_col = ['foods','re']\n",
    "my_stan = [food_name, review_tagname]\n",
    "for target_col, target_data in zip(my_col, my_stan):\n",
    "    cosine_func(target_col,target_data)"
   ]
  },
  {
   "cell_type": "code",
   "execution_count": null,
   "metadata": {},
   "outputs": [],
   "source": [
    "result_arr = []\n",
    "for column in df.columns.values:\n",
    "    if (df[column].dtype == 'float64') |  (df[column].dtype == 'int64'):\n",
    "        if(column != 'wine_id'):\n",
    "            result_arr.append(column)"
   ]
  },
  {
   "cell_type": "code",
   "execution_count": null,
   "metadata": {},
   "outputs": [],
   "source": [
    "result_arr"
   ]
  },
  {
   "cell_type": "code",
   "execution_count": null,
   "metadata": {},
   "outputs": [],
   "source": [
    "df_result_weight = df[result_arr].copy()\n",
    "df_result_weight.head()"
   ]
  },
  {
   "cell_type": "markdown",
   "metadata": {},
   "source": [
    "#### 가중치 받기"
   ]
  },
  {
   "cell_type": "code",
   "execution_count": null,
   "metadata": {},
   "outputs": [],
   "source": [
    "num1 = int(input(\"평점 : \"))\n",
    "num2 = int(input(\"같이 먹을 음식 : \"))\n",
    "num3 = int(input(\"리뷰 : \"))"
   ]
  },
  {
   "cell_type": "code",
   "execution_count": null,
   "metadata": {},
   "outputs": [],
   "source": [
    "def weight_cal(num):\n",
    "    if num == 1:\n",
    "        w = 2.0\n",
    "    elif num == 2 :\n",
    "        w=1.5\n",
    "    else:\n",
    "        w=1\n",
    "    return w"
   ]
  },
  {
   "cell_type": "markdown",
   "metadata": {},
   "source": [
    "#### 받은 가중치로 계산"
   ]
  },
  {
   "cell_type": "code",
   "execution_count": null,
   "metadata": {},
   "outputs": [],
   "source": [
    "# 가중치 추가  => 우선 순위 받지 않은 가중치값은 아직 정하지 않음!\n",
    "\n",
    "df['weight'] = df_result_weight.iloc[:,0]*0\n",
    "df['weight'] += df_result_weight.iloc[:,1]*weight_cal(num1)\n",
    "df['weight'] += df_result_weight.iloc[:,2]*0.5\n",
    "df['weight'] += df_result_weight.iloc[:,3]*0.5\n",
    "df['weight'] += df_result_weight.iloc[:,4]*weight_cal(num2)\n",
    "df['weight'] += df_result_weight.iloc[:,5]*weight_cal(num3)"
   ]
  },
  {
   "cell_type": "code",
   "execution_count": null,
   "metadata": {},
   "outputs": [],
   "source": [
    "df['weight']"
   ]
  },
  {
   "cell_type": "code",
   "execution_count": null,
   "metadata": {},
   "outputs": [],
   "source": [
    "df_sorted_by_values = df.sort_values(by='weight' ,ascending=False)"
   ]
  },
  {
   "cell_type": "code",
   "execution_count": null,
   "metadata": {},
   "outputs": [],
   "source": [
    "df_sorted_by_values[:5]"
   ]
  }
 ],
 "metadata": {
  "kernelspec": {
   "display_name": "Python 3",
   "language": "python",
   "name": "python3"
  },
  "language_info": {
   "codemirror_mode": {
    "name": "ipython",
    "version": 3
   },
   "file_extension": ".py",
   "mimetype": "text/x-python",
   "name": "python",
   "nbconvert_exporter": "python",
   "pygments_lexer": "ipython3",
   "version": "3.7.3"
  }
 },
 "nbformat": 4,
 "nbformat_minor": 2
}
