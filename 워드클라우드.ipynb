{
 "cells": [
  {
   "cell_type": "code",
   "execution_count": 1,
   "metadata": {},
   "outputs": [],
   "source": [
    "from konlpy.tag import Twitter\n",
    "import numpy as np\n",
    "import pandas as pd\n",
    "import numpy as np\n",
    "from wordcloud import WordCloud \n",
    "import matplotlib\n",
    "import matplotlib.pyplot as plt \n",
    "import nltk \n",
    "from nltk.corpus import stopwords\n",
    "import seaborn as sns\n",
    "from PIL import Image\n",
    "from wordcloud import WordCloud, STOPWORDS, ImageColorGenerator\n",
    "from wordcloud import ImageColorGenerator"
   ]
  },
  {
   "cell_type": "code",
   "execution_count": null,
   "metadata": {},
   "outputs": [],
   "source": [
    "import pandas as pd\n",
    "df = pd.read_csv(\"./투자 유치 100억이상 회사 복지 혜택.csv\")\n",
    "df"
   ]
  },
  {
   "cell_type": "code",
   "execution_count": null,
   "metadata": {},
   "outputs": [],
   "source": [
    "df = df.fillna('')"
   ]
  },
  {
   "cell_type": "code",
   "execution_count": null,
   "metadata": {},
   "outputs": [],
   "source": [
    "import collections\n",
    "\n",
    "\n",
    "selected_column = df['보험, 의료']\n",
    "\n",
    "column_to_str = ', '.join(list(selected_column))\n",
    "column_to_str = column_to_str.replace(' ', '') #공백제거\n",
    "\n",
    "str_to_list = column_to_str.split(',')\n",
    "\n",
    "items_counted = dict(collections.Counter(str_to_list))\n",
    "\n",
    "items_counted"
   ]
  },
  {
   "cell_type": "code",
   "execution_count": null,
   "metadata": {},
   "outputs": [],
   "source": [
    "bird = np.array(Image.open(\"img.png\"))\n",
    "image_colors = ImageColorGenerator(bird)"
   ]
  },
  {
   "cell_type": "code",
   "execution_count": null,
   "metadata": {},
   "outputs": [],
   "source": [
    "palettes = ['spring', 'summer', 'seismic','PuBu']\n",
    "plt.figure(figsize=(15,15))\n",
    "wordcloud = WordCloud(font_path = 'C:/Windows/NanumGothicBold.ttf',\n",
    "                      background_color='white',\n",
    "                      mask=bird,\n",
    "                      width=1000, height=1000, \n",
    "                      max_words = 100,max_font_size = 300).generate_from_frequencies(items_counted) \n",
    "plt.imshow(wordcloud) \n",
    "plt.axis('off') \n",
    "plt.tight_layout(pad=0)\n",
    "plt.show()"
   ]
  },
  {
   "cell_type": "code",
   "execution_count": null,
   "metadata": {},
   "outputs": [],
   "source": []
  },
  {
   "cell_type": "code",
   "execution_count": null,
   "metadata": {},
   "outputs": [],
   "source": []
  },
  {
   "cell_type": "code",
   "execution_count": null,
   "metadata": {},
   "outputs": [],
   "source": []
  },
  {
   "cell_type": "code",
   "execution_count": null,
   "metadata": {},
   "outputs": [],
   "source": []
  },
  {
   "cell_type": "code",
   "execution_count": null,
   "metadata": {},
   "outputs": [],
   "source": []
  }
 ],
 "metadata": {
  "kernelspec": {
   "display_name": "Python 3",
   "language": "python",
   "name": "python3"
  },
  "language_info": {
   "codemirror_mode": {
    "name": "ipython",
    "version": 3
   },
   "file_extension": ".py",
   "mimetype": "text/x-python",
   "name": "python",
   "nbconvert_exporter": "python",
   "pygments_lexer": "ipython3",
   "version": "3.7.3"
  }
 },
 "nbformat": 4,
 "nbformat_minor": 2
}
