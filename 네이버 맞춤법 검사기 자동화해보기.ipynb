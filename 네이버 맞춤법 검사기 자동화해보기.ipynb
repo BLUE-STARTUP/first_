{
 "cells": [
  {
   "cell_type": "code",
   "execution_count": 29,
   "metadata": {},
   "outputs": [
    {
     "name": "stdout",
     "output_type": "stream",
     "text": [
      "499\n",
      "481\n",
      "494\n",
      "495\n",
      "486\n",
      "497\n",
      "497\n"
     ]
    }
   ],
   "source": [
    "from selenium import webdriver\n",
    "from selenium.webdriver.common.keys import Keys\n",
    "import time\n",
    "from bs4 import BeautifulSoup\n",
    "\n",
    "fp = open(\"1.txt\", 'r' , encoding=\"utf-8\")\n",
    "text = fp.read()\n",
    "fp.close()\n",
    "\n",
    "ready_list = []\n",
    "while (len(text) > 500):\n",
    "    temp_str = text[:500] #처음 500자\n",
    "    last_space = temp_str.rfind(' ') #500번째 전 가장 가까운 공백 찾기\n",
    "    temp_str = text[0:last_space] #그전부분\n",
    "    print(len(temp_str))\n",
    "    ready_list.append(temp_str) #잘나온 부분을 레디 리스트에 넣는곳임\n",
    "    \n",
    "    text = text[last_space:]\n",
    "    \n",
    "ready_list.append(text)\n",
    "\n",
    "\n",
    "driver = webdriver.Chrome()\n",
    "driver.get(\"http://www.naver.com\")\n",
    "\n",
    "elem = driver.find_element_by_name(\"query\")\n",
    "elem.send_keys(\"맞춤법 검사기\")\n",
    "elem.send_keys(Keys.RETURN)\n",
    "\n",
    "time.sleep(2)\n",
    "textarea = driver.find_element_by_class_name(\"txt_gray\")\n",
    "\n",
    "new_str = ''\n",
    "for ready in ready_list:\n",
    "    \n",
    "    textarea.send_keys(Keys.CONTROL, \"a\")\n",
    "    textarea.send_keys(ready)\n",
    "\n",
    "    elem = driver.find_element_by_class_name(\"btn_check\")\n",
    "    elem.click()\n",
    "\n",
    "    time.sleep(1)\n",
    "\n",
    "    soup = BeautifulSoup(driver.page_source, 'html.parser')\n",
    "    st = soup.select(\"p._result_text.stand_txt\")[0].text\n",
    "    new_str += st.replace('. ', '.＼n')\n",
    "\n",
    "fp = open(\"result.txt\", 'w', encoding='utf-8')\n",
    "fp.write(new_str)\n",
    "fp.close()"
   ]
  },
  {
   "cell_type": "code",
   "execution_count": 17,
   "metadata": {},
   "outputs": [
    {
     "name": "stdout",
     "output_type": "stream",
     "text": [
      "안녕하세요 나는 상범\n"
     ]
    }
   ],
   "source": [
    "print(soup.select(\"p._result_text.stand_txt\")[0].text)"
   ]
  }
 ],
 "metadata": {
  "kernelspec": {
   "display_name": "Python 3",
   "language": "python",
   "name": "python3"
  },
  "language_info": {
   "codemirror_mode": {
    "name": "ipython",
    "version": 3
   },
   "file_extension": ".py",
   "mimetype": "text/x-python",
   "name": "python",
   "nbconvert_exporter": "python",
   "pygments_lexer": "ipython3",
   "version": "3.7.3"
  }
 },
 "nbformat": 4,
 "nbformat_minor": 2
}
